{
 "cells": [
  {
   "cell_type": "markdown",
   "metadata": {
    "pycharm": {
     "name": "#%% md\n"
    }
   },
   "source": [
    "## A \"Greedy\" change approach"
   ]
  },
  {
   "cell_type": "code",
   "execution_count": 1,
   "metadata": {
    "pycharm": {
     "name": "#%%\n"
    }
   },
   "outputs": [
    {
     "name": "stdout",
     "output_type": "stream",
     "text": [
      "[2, 2, 0, 2] 6\n",
      "[1, 1, 1, 0] 3\n",
      "[1, 0, 1, 1, 0] 3\n"
     ]
    }
   ],
   "source": [
    "def greedyChange(amount, denominations):\n",
    "    # Goal is to produce the fewest coins to achieve\n",
    "    # given target \"amount\"\n",
    "    # Strategy: Give as many of the largest coin \n",
    "    # denomination that is less than amount. \n",
    "    solution = []\n",
    "    for coin in denominations:\n",
    "        i = amount // coin       # truncating integer divide\n",
    "        solution.append(i)\n",
    "        amount -= coin * i\n",
    "    return solution\n",
    "\n",
    "s1 = greedyChange(72, [25,10,5,1])\n",
    "print(s1, sum(s1))\n",
    "s2 = greedyChange(40, [25,10,5,1])\n",
    "print(s2, sum(s2))\n",
    "s3 = greedyChange(40, [25,20,10,5,1])\n",
    "print(s3, sum(s3))"
   ]
  },
  {
   "cell_type": "markdown",
   "metadata": {
    "pycharm": {
     "name": "#%% md\n"
    }
   },
   "source": [
    "## Another Approach"
   ]
  },
  {
   "cell_type": "code",
   "execution_count": 2,
   "metadata": {
    "pycharm": {
     "name": "#%%\n"
    }
   },
   "outputs": [
    {
     "name": "stdout",
     "output_type": "stream",
     "text": [
      "[0, 2, 0, 0, 0]\n",
      "CPU times: user 477 ms, sys: 3.2 ms, total: 480 ms\n",
      "Wall time: 480 ms\n"
     ]
    }
   ],
   "source": [
    "def exhaustiveChange(amount, denominations):\n",
    "    bestN = 100\n",
    "    count = [0 for i in range(len(denominations))]\n",
    "    while True:\n",
    "        for i, coinValue in enumerate(denominations):\n",
    "            count[i] += 1\n",
    "            if (count[i]*coinValue < 100):\n",
    "                break\n",
    "            count[i] = 0\n",
    "        n = sum(count)\n",
    "        if n == 0:\n",
    "            break\n",
    "        value = sum([count[i]*denominations[i] for i in range(len(denominations))])\n",
    "        if (value == amount):\n",
    "            if (n < bestN):\n",
    "                solution = [count[i] for i in range(len(denominations))]\n",
    "                bestN = n\n",
    "    return solution\n",
    "\n",
    "%time print(exhaustiveChange(40,[25,20,10,5,1]))"
   ]
  },
  {
   "cell_type": "markdown",
   "metadata": {
    "pycharm": {
     "name": "#%% md\n"
    }
   },
   "source": [
    "## Correct, but costly\n",
    "* Our algorithm now gets the right answer for every value 1..100\n",
    "* It must, because it considers every possible answer<br>(that’s the good thing about brute force)\n",
    "* There is a downside though"
   ]
  },
  {
   "cell_type": "code",
   "execution_count": 3,
   "metadata": {
    "pycharm": {
     "name": "#%%\n"
    }
   },
   "outputs": [
    {
     "name": "stdout",
     "output_type": "stream",
     "text": [
      "[1, 1, 1, 0]\n",
      "CPU times: user 87.5 ms, sys: 1.97 ms, total: 89.5 ms\n",
      "Wall time: 88.8 ms\n",
      "[0, 2, 0, 0, 0]\n",
      "CPU times: user 463 ms, sys: 1.88 ms, total: 465 ms\n",
      "Wall time: 466 ms\n",
      "[0, 3, 1, 0, 0, 0]\n",
      "CPU times: user 1min 38s, sys: 505 ms, total: 1min 38s\n",
      "Wall time: 1min 39s\n"
     ]
    }
   ],
   "source": [
    "%time print(exhaustiveChange(40, [25,10,5,1]))\n",
    "%time print(exhaustiveChange(40, [25,20,10,5,1]))\n",
    "%time print(exhaustiveChange(40, [13,11,7,5,3,1]))"
   ]
  },
  {
   "cell_type": "markdown",
   "metadata": {
    "pycharm": {
     "name": "#%% md\n"
    }
   },
   "source": [
    "## Other tricks?\n",
    "\n",
    "A Branch-and-bound algorithm"
   ]
  },
  {
   "cell_type": "code",
   "execution_count": 4,
   "metadata": {
    "pycharm": {
     "name": "#%%\n"
    }
   },
   "outputs": [
    {
     "name": "stdout",
     "output_type": "stream",
     "text": [
      "[0, 3, 1, 0, 0, 0]\n",
      "CPU times: user 188 ms, sys: 3.01 ms, total: 191 ms\n",
      "Wall time: 191 ms\n"
     ]
    }
   ],
   "source": [
    "def branchAndBoundChange(amount, denominations):\n",
    "    bestN = amount\n",
    "    count = [0 for i in range(len(denominations))]\n",
    "    while True:\n",
    "        for i, coinValue in enumerate(denominations):\n",
    "            count[i] += 1\n",
    "            if (count[i]*coinValue < amount):             # Set upper bound to amount rather than 100\n",
    "                break\n",
    "            count[i] = 0\n",
    "        n = sum(count)\n",
    "        if n == 0:\n",
    "            break\n",
    "        if (n > bestN):                                   # don't compute the amount if there are too many coins\n",
    "            continue\n",
    "        value = sum([count[i]*denominations[i] for i in range(len(denominations))])\n",
    "        if (value == amount):\n",
    "            if (n < bestN):\n",
    "                solution = [count[i] for i in range(len(denominations))]\n",
    "                bestN = n\n",
    "    return solution\n",
    "\n",
    "%time print(branchAndBoundChange(40, [13,11,7,5,3,1]))"
   ]
  },
  {
   "cell_type": "markdown",
   "metadata": {
    "collapsed": true,
    "pycharm": {
     "name": "#%% md\n"
    }
   },
   "source": [
    "<h2>Other GREEDY Algorithms for Graphs</h2>\n",
    "<h3>Algorithms for Minimum Spanning Trees</h3>\n"
   ]
  },
  {
   "cell_type": "code",
   "execution_count": 5,
   "metadata": {
    "pycharm": {
     "name": "#%%\n"
    }
   },
   "outputs": [],
   "source": [
    "# Kruskal's and Prim's Minimum Spanning Tree (MST) algorithms.\n",
    "# The program is for adjacency matrix representation of the graph\n",
    " \n",
    "# Library for INT_MAX or could import math and use math.inf\n",
    "import sys\n",
    " \n",
    " \n",
    "class Graph():\n",
    "    def __init__(self, vertices):\n",
    "        self.V = vertices\n",
    "        self.graph = [[0 for column in range(vertices)]\n",
    "                      for row in range(vertices)]\n",
    "    \n",
    "    \n",
    "    def findEdges(self):\n",
    "        \"\"\"finds the edges in the undirected graph and puts them\n",
    "        in a list in the form of [src, dest, weight]\"\"\"\n",
    "        edges=[]\n",
    "        for v in range(self.V):\n",
    "            for a in range(self.V):\n",
    "                if(self.graph[v][a] != 0 and [v,a,self.graph[v][a]] not in edges and [a,v,self.graph[a][v]]not in edges):\n",
    "                    edges.append([v,a,self.graph[v][a] ])\n",
    "        #print(edges)\n",
    "        return edges\n",
    "    \n",
    "    # \n",
    "    def find(self, parent, i):\n",
    "        \"\"\"For Kruskals Algorithm helper function to find set of an element i\"\"\"\n",
    "        if parent[i] != i:\n",
    "          # Reassignment of node's parent to root node as\n",
    "          # path compression requires\n",
    "            parent[i] = self.find(parent, parent[i])\n",
    "        return parent[i]\n",
    "    \n",
    "\n",
    "    def union(self, parent, rank, x, y):\n",
    "        \"\"\"A function that does union of two sets of x and y\n",
    "        uses union by rank\"\"\"\n",
    "        # Attach smaller rank tree under root of\n",
    "        # high rank tree (Union by Rank)\n",
    "        if rank[x] < rank[y]:\n",
    "            parent[x] = y\n",
    "        elif rank[x] > rank[y]:\n",
    "            parent[y] = x\n",
    "  \n",
    "        # If ranks are same, then make one as root\n",
    "        # and increment its rank by one\n",
    "        else:\n",
    "            parent[y] = x\n",
    "            rank[x] += 1\n",
    "  \n",
    " \n",
    "    def KruskalMST(self):\n",
    "        \"\"\"The main function to construct MST using Kruskal's\n",
    "        returns the list of edges in the MST\"\"\"\n",
    "        result = []  # This will store the resultant MST\n",
    "  \n",
    "        # An index variable, used for sorted edges\n",
    "        i = 0\n",
    "  \n",
    "        # An index variable, used for result[]\n",
    "        e = 0\n",
    "  \n",
    "        # Step 1:  Sort all the edges in\n",
    "        # non-decreasing order of their\n",
    "        # weight.  If we are not allowed to change the\n",
    "        # given graph, we can create a copy of graph\n",
    "        sortedEdges = sorted(self.findEdges(),\n",
    "                            key=lambda item: item[2])\n",
    "  \n",
    "        #print(sortedEdges)\n",
    "        parent = []\n",
    "        rank = []\n",
    "  \n",
    "        # Create V subsets with single elements\n",
    "        for node in range(self.V):\n",
    "            parent.append(node)\n",
    "            rank.append(0)\n",
    "  \n",
    "        # Number of edges to be taken is less than to V-1\n",
    "        while e < self.V - 1:\n",
    "  \n",
    "            # Step 2: Pick the smallest edge and increment\n",
    "            # the index for next iteration\n",
    "            u, v, w = sortedEdges[i]\n",
    "            i = i + 1\n",
    "            x = self.find(parent, u)\n",
    "            y = self.find(parent, v)\n",
    "  \n",
    "            # If including this edge doesn't\n",
    "            # cause cycle, then include it in result\n",
    "            # and increment the index of result\n",
    "            # for next edge\n",
    "            if x != y:\n",
    "                e = e + 1\n",
    "                result.append([u, v, w])\n",
    "                self.union(parent, rank, x, y)\n",
    "            # Else discard the edge\n",
    "        self.printMST(result,\"Kruskal's\")\n",
    "        return result\n",
    "    \n",
    "    \n",
    "    def printMST(self, result, technique):\n",
    "        \"\"\"prints the edges in the MST \"\"\"\n",
    "        minimumCost = 0\n",
    "        print(technique)\n",
    "        print(\"Edge \\tWeight\")\n",
    "        for u, v, weight in result:\n",
    "            minimumCost += weight\n",
    "            print(f\"{u} - {v}\\t{weight}\")\n",
    "            #print(\"%d -- %d == %d\" % (u, v, weight))\n",
    "        print(f\"Minimum Spanning Tree: {minimumCost}\")\n",
    "    \n",
    "    \n",
    "    def minKey(self, key, mstSet):\n",
    "        \"\"\"A helper function for Prim's  and Dijkstras to find the vertex with\n",
    "        minimum distance value, from the set of vertices\n",
    "        not yet included in shortest path tree\"\"\"\n",
    "        # Initialize min value to be positive inf\n",
    "        min = sys.maxsize\n",
    " \n",
    "        for v in range(self.V):\n",
    "            if key[v] < min and mstSet[v] == False:\n",
    "                min = key[v]\n",
    "                min_index = v\n",
    " \n",
    "        return min_index\n",
    " \n",
    "    def primMST(self):\n",
    "        \"\"\"Function to construct and print MST for a graph\n",
    "        represented using adjacency matrix representation\"\"\"\n",
    "        result= []\n",
    "        # Key values used to pick minimum weight edge in cut\n",
    "        key = [sys.maxsize] * self.V\n",
    "        parent = [None] * self.V  # Array to store constructed MST\n",
    "        # Make key 0 so that this vertex is picked as first vertex\n",
    "        key[0] = 0\n",
    "        mstSet = [False] * self.V\n",
    " \n",
    "        parent[0] = -1  # First node is always the root of\n",
    " \n",
    "        for cout in range(self.V):\n",
    " \n",
    "            # Pick the minimum distance vertex from\n",
    "            # the set of vertices not yet processed.\n",
    "            # u is always equal to src in first iteration\n",
    "            u = self.minKey(key, mstSet)\n",
    " \n",
    "            # Put the minimum distance vertex in\n",
    "            # the shortest path tree\n",
    "            mstSet[u] = True\n",
    " \n",
    "            # Update dist value of the adjacent vertices\n",
    "            # of the picked vertex only if the current\n",
    "            # distance is greater than new distance and\n",
    "            # the vertex in not in the shortest path tree\n",
    "            for v in range(self.V):\n",
    " \n",
    "                # graph[u][v] is non zero only for adjacent vertices of m\n",
    "                # mstSet[v] is false for vertices not yet included in MST\n",
    "                # Update the key only if graph[u][v] is smaller than key[v]\n",
    "                if self.graph[u][v] > 0 and mstSet[v] == False \\\n",
    "                and key[v] > self.graph[u][v]:\n",
    "                    key[v] = self.graph[u][v]\n",
    "                    parent[v] = u\n",
    "                    \n",
    "        result = self.makePrimSolution(parent)\n",
    "        self.printMST(result,\"Prim's\")\n",
    "        return result\n",
    "    \n",
    "    def makePrimSolution(self, parentList):\n",
    "        \"\"\"makes the list based on the parent list given from Prim's\"\"\"\n",
    "        result=[]\n",
    "        for i in range(1, self.V):\n",
    "            result.append([parentList[i], i, self.graph[i][parentList[i]]])\n",
    "        return result\n",
    "    \n",
    "    def renderGraph(self):\n",
    "        \"\"\" Outputs a version of the graph that can be rendered\n",
    "        using graphviz tools (http://www.graphviz.org/).\"\"\"\n",
    "        edges=self.findEdges()#find edges\n",
    "        result = ''\n",
    "        result += 'graph {\\n'\n",
    "        result += '   graph [nodesep=2, size=\"10,10\"];\\n'\n",
    "        for v in range(self.V):\n",
    "            result += '    N%d [shape=\"box\", style=\"rounded\", label=\"%s\"];\\n' % (v, v)\n",
    "        #print(result)\n",
    "        for e in edges:\n",
    "            src, dst, label = e\n",
    "            result += '    N%d -- N%d' % (src, dst)\n",
    "            result += ' [label=\"%s\"]' % (label)              \n",
    "            result += ';\\n'                \n",
    "        result += '    overlap=false;\\n'\n",
    "        result += '}\\n'\n",
    "        return result\n",
    "    \n",
    "    \n",
    "    def renderGraphMST(self, mstEdges):\n",
    "        \"\"\" Outputs a version of the graph withs MST in red that can be rendered\n",
    "        using graphviz tools (http://www.graphviz.org/).\"\"\"\n",
    "        edges=self.findEdges()#find edges\n",
    "        result = ''\n",
    "        result += 'graph {\\n'\n",
    "        result += '   graph [nodesep=2, size=\"10,10\"];\\n'\n",
    "        for v in range(self.V):\n",
    "            result += '    N%d [shape=\"box\", style=\"rounded\", label=\"%s\"];\\n' % (v, v)\n",
    "        #print(result)\n",
    "\n",
    "        for e in edges:\n",
    "            src, dst, label = e\n",
    "            if e in mstEdges or [dst, src, label]in mstEdges:\n",
    "                result += '    N%d -- N%d [color=red,penwidth=3.0]' % (src, dst)\n",
    "            else:\n",
    "                result += '    N%d -- N%d' % (src, dst)\n",
    "            result += ' [label=\"%s\"]' % (label)              \n",
    "            result += ';\\n'                \n",
    "        result += '    overlap=true;\\n'\n",
    "        result += '}\\n'\n",
    "        return result        \n",
    "    \n",
    "    \n",
    "    \n",
    "    \n",
    "    def printDijkstrasSolution(self, dist):\n",
    "        print(\"Vertex \\t Distance from Source\")\n",
    "        for node in range(self.V):\n",
    "            print(node, \"\\t\\t\", dist[node])\n",
    "    \n",
    "    # Function that implements Dijkstra's single source\n",
    "    # shortest path algorithm for a graph represented\n",
    "    # using adjacency matrix representation\n",
    "    def dijkstra(self, src):\n",
    " \n",
    "        dist = [1e7] * self.V\n",
    "        dist[src] = 0\n",
    "        sptSet = [False] * self.V\n",
    " \n",
    "        for cout in range(self.V):\n",
    " \n",
    "            # Pick the minimum distance vertex from\n",
    "            # the set of vertices not yet processed.\n",
    "            # u is always equal to src in first iteration\n",
    "            u = self.minKey(dist, sptSet)\n",
    " \n",
    "            # Put the minimum distance vertex in the\n",
    "            # shortest path tree\n",
    "            sptSet[u] = True\n",
    " \n",
    "            # Update dist value of the adjacent vertices\n",
    "            # of the picked vertex only if the current\n",
    "            # distance is greater than new distance and\n",
    "            # the vertex in not in the shortest path tree\n",
    "            for v in range(self.V):\n",
    "                if (self.graph[u][v] > 0 and\n",
    "                   sptSet[v] == False and\n",
    "                   dist[v] > dist[u] + self.graph[u][v]):\n",
    "                    dist[v] = dist[u] + self.graph[u][v]\n",
    " \n",
    "        self.printDijkstrasSolution(dist)"
   ]
  },
  {
   "cell_type": "code",
   "execution_count": 24,
   "metadata": {
    "pycharm": {
     "name": "#%%\n"
    }
   },
   "outputs": [
    {
     "name": "stdout",
     "output_type": "stream",
     "text": [
      "graph {\n",
      "   graph [nodesep=2, size=\"10,10\"];\n",
      "    N0 [shape=\"box\", style=\"rounded\", label=\"0\"];\n",
      "    N1 [shape=\"box\", style=\"rounded\", label=\"1\"];\n",
      "    N2 [shape=\"box\", style=\"rounded\", label=\"2\"];\n",
      "    N3 [shape=\"box\", style=\"rounded\", label=\"3\"];\n",
      "    N4 [shape=\"box\", style=\"rounded\", label=\"4\"];\n",
      "    N0 -- N1 [label=\"4\"];\n",
      "    N0 -- N3 [label=\"3\"];\n",
      "    N0 -- N4 [label=\"5\"];\n",
      "    N1 -- N2 [label=\"2\"];\n",
      "    N2 -- N3 [label=\"1\"];\n",
      "    overlap=false;\n",
      "}\n",
      "\n"
     ]
    }
   ],
   "source": [
    "matrix = [[0, 4, 0, 3, 5], [4, 0, 2, 0, 0], [0, 2, 0, 1, 0], [3, 0, 1, 0, 0], [5, 0, 0, 0, 0]]\n",
    "exampleGraph = Graph(len(matrix))\n",
    "exampleGraph.graph = matrix\n",
    "\n",
    "rendering = exampleGraph.renderGraph()\n",
    "print(rendering)\n",
    "with open(\"ExampleGraph.dot\", 'w') as fp:\n",
    "    fp.write(rendering)"
   ]
  },
  {
   "cell_type": "code",
   "execution_count": 7,
   "metadata": {
    "pycharm": {
     "name": "#%%\n"
    }
   },
   "outputs": [
    {
     "name": "stdout",
     "output_type": "stream",
     "text": [
      "zsh:1: command not found: circo\r\n"
     ]
    }
   ],
   "source": [
    "# The following command assumes that graphviz is installed.\n",
    "# See https://www.graphviz.org/\n",
    "!circo -Goverlap=scale -Tpng ExampleGraph.dot -o ExampleGraph.png"
   ]
  },
  {
   "cell_type": "code",
   "execution_count": 8,
   "metadata": {
    "pycharm": {
     "name": "#%%\n"
    }
   },
   "outputs": [
    {
     "ename": "FileNotFoundError",
     "evalue": "No such file or directory: 'ExampleGraph.png'",
     "output_type": "error",
     "traceback": [
      "\u001B[0;31m---------------------------------------------------------------------------\u001B[0m",
      "\u001B[0;31mTypeError\u001B[0m                                 Traceback (most recent call last)",
      "File \u001B[0;32m~/PycharmProjects/pythonProject/venv/lib/python3.10/site-packages/IPython/core/display.py:1045\u001B[0m, in \u001B[0;36mImage._data_and_metadata\u001B[0;34m(self, always_both)\u001B[0m\n\u001B[1;32m   1044\u001B[0m \u001B[38;5;28;01mtry\u001B[39;00m:\n\u001B[0;32m-> 1045\u001B[0m     b64_data \u001B[38;5;241m=\u001B[39m \u001B[43mb2a_base64\u001B[49m\u001B[43m(\u001B[49m\u001B[38;5;28;43mself\u001B[39;49m\u001B[38;5;241;43m.\u001B[39;49m\u001B[43mdata\u001B[49m\u001B[43m,\u001B[49m\u001B[43m \u001B[49m\u001B[43mnewline\u001B[49m\u001B[38;5;241;43m=\u001B[39;49m\u001B[38;5;28;43;01mFalse\u001B[39;49;00m\u001B[43m)\u001B[49m\u001B[38;5;241m.\u001B[39mdecode(\u001B[38;5;124m\"\u001B[39m\u001B[38;5;124mascii\u001B[39m\u001B[38;5;124m\"\u001B[39m)\n\u001B[1;32m   1046\u001B[0m \u001B[38;5;28;01mexcept\u001B[39;00m \u001B[38;5;167;01mTypeError\u001B[39;00m \u001B[38;5;28;01mas\u001B[39;00m e:\n",
      "\u001B[0;31mTypeError\u001B[0m: a bytes-like object is required, not 'str'",
      "\nThe above exception was the direct cause of the following exception:\n",
      "\u001B[0;31mFileNotFoundError\u001B[0m                         Traceback (most recent call last)",
      "File \u001B[0;32m~/PycharmProjects/pythonProject/venv/lib/python3.10/site-packages/IPython/core/formatters.py:972\u001B[0m, in \u001B[0;36mMimeBundleFormatter.__call__\u001B[0;34m(self, obj, include, exclude)\u001B[0m\n\u001B[1;32m    969\u001B[0m     method \u001B[38;5;241m=\u001B[39m get_real_method(obj, \u001B[38;5;28mself\u001B[39m\u001B[38;5;241m.\u001B[39mprint_method)\n\u001B[1;32m    971\u001B[0m     \u001B[38;5;28;01mif\u001B[39;00m method \u001B[38;5;129;01mis\u001B[39;00m \u001B[38;5;129;01mnot\u001B[39;00m \u001B[38;5;28;01mNone\u001B[39;00m:\n\u001B[0;32m--> 972\u001B[0m         \u001B[38;5;28;01mreturn\u001B[39;00m \u001B[43mmethod\u001B[49m\u001B[43m(\u001B[49m\u001B[43minclude\u001B[49m\u001B[38;5;241;43m=\u001B[39;49m\u001B[43minclude\u001B[49m\u001B[43m,\u001B[49m\u001B[43m \u001B[49m\u001B[43mexclude\u001B[49m\u001B[38;5;241;43m=\u001B[39;49m\u001B[43mexclude\u001B[49m\u001B[43m)\u001B[49m\n\u001B[1;32m    973\u001B[0m     \u001B[38;5;28;01mreturn\u001B[39;00m \u001B[38;5;28;01mNone\u001B[39;00m\n\u001B[1;32m    974\u001B[0m \u001B[38;5;28;01melse\u001B[39;00m:\n",
      "File \u001B[0;32m~/PycharmProjects/pythonProject/venv/lib/python3.10/site-packages/IPython/core/display.py:1035\u001B[0m, in \u001B[0;36mImage._repr_mimebundle_\u001B[0;34m(self, include, exclude)\u001B[0m\n\u001B[1;32m   1033\u001B[0m \u001B[38;5;28;01mif\u001B[39;00m \u001B[38;5;28mself\u001B[39m\u001B[38;5;241m.\u001B[39membed:\n\u001B[1;32m   1034\u001B[0m     mimetype \u001B[38;5;241m=\u001B[39m \u001B[38;5;28mself\u001B[39m\u001B[38;5;241m.\u001B[39m_mimetype\n\u001B[0;32m-> 1035\u001B[0m     data, metadata \u001B[38;5;241m=\u001B[39m \u001B[38;5;28;43mself\u001B[39;49m\u001B[38;5;241;43m.\u001B[39;49m\u001B[43m_data_and_metadata\u001B[49m\u001B[43m(\u001B[49m\u001B[43malways_both\u001B[49m\u001B[38;5;241;43m=\u001B[39;49m\u001B[38;5;28;43;01mTrue\u001B[39;49;00m\u001B[43m)\u001B[49m\n\u001B[1;32m   1036\u001B[0m     \u001B[38;5;28;01mif\u001B[39;00m metadata:\n\u001B[1;32m   1037\u001B[0m         metadata \u001B[38;5;241m=\u001B[39m {mimetype: metadata}\n",
      "File \u001B[0;32m~/PycharmProjects/pythonProject/venv/lib/python3.10/site-packages/IPython/core/display.py:1047\u001B[0m, in \u001B[0;36mImage._data_and_metadata\u001B[0;34m(self, always_both)\u001B[0m\n\u001B[1;32m   1045\u001B[0m     b64_data \u001B[38;5;241m=\u001B[39m b2a_base64(\u001B[38;5;28mself\u001B[39m\u001B[38;5;241m.\u001B[39mdata, newline\u001B[38;5;241m=\u001B[39m\u001B[38;5;28;01mFalse\u001B[39;00m)\u001B[38;5;241m.\u001B[39mdecode(\u001B[38;5;124m\"\u001B[39m\u001B[38;5;124mascii\u001B[39m\u001B[38;5;124m\"\u001B[39m)\n\u001B[1;32m   1046\u001B[0m \u001B[38;5;28;01mexcept\u001B[39;00m \u001B[38;5;167;01mTypeError\u001B[39;00m \u001B[38;5;28;01mas\u001B[39;00m e:\n\u001B[0;32m-> 1047\u001B[0m     \u001B[38;5;28;01mraise\u001B[39;00m \u001B[38;5;167;01mFileNotFoundError\u001B[39;00m(\n\u001B[1;32m   1048\u001B[0m         \u001B[38;5;124m\"\u001B[39m\u001B[38;5;124mNo such file or directory: \u001B[39m\u001B[38;5;124m'\u001B[39m\u001B[38;5;132;01m%s\u001B[39;00m\u001B[38;5;124m'\u001B[39m\u001B[38;5;124m\"\u001B[39m \u001B[38;5;241m%\u001B[39m (\u001B[38;5;28mself\u001B[39m\u001B[38;5;241m.\u001B[39mdata)) \u001B[38;5;28;01mfrom\u001B[39;00m \u001B[38;5;21;01me\u001B[39;00m\n\u001B[1;32m   1049\u001B[0m md \u001B[38;5;241m=\u001B[39m {}\n\u001B[1;32m   1050\u001B[0m \u001B[38;5;28;01mif\u001B[39;00m \u001B[38;5;28mself\u001B[39m\u001B[38;5;241m.\u001B[39mmetadata:\n",
      "\u001B[0;31mFileNotFoundError\u001B[0m: No such file or directory: 'ExampleGraph.png'"
     ]
    },
    {
     "ename": "FileNotFoundError",
     "evalue": "No such file or directory: 'ExampleGraph.png'",
     "output_type": "error",
     "traceback": [
      "\u001B[0;31m---------------------------------------------------------------------------\u001B[0m",
      "\u001B[0;31mTypeError\u001B[0m                                 Traceback (most recent call last)",
      "File \u001B[0;32m~/PycharmProjects/pythonProject/venv/lib/python3.10/site-packages/IPython/core/display.py:1045\u001B[0m, in \u001B[0;36mImage._data_and_metadata\u001B[0;34m(self, always_both)\u001B[0m\n\u001B[1;32m   1044\u001B[0m \u001B[38;5;28;01mtry\u001B[39;00m:\n\u001B[0;32m-> 1045\u001B[0m     b64_data \u001B[38;5;241m=\u001B[39m \u001B[43mb2a_base64\u001B[49m\u001B[43m(\u001B[49m\u001B[38;5;28;43mself\u001B[39;49m\u001B[38;5;241;43m.\u001B[39;49m\u001B[43mdata\u001B[49m\u001B[43m,\u001B[49m\u001B[43m \u001B[49m\u001B[43mnewline\u001B[49m\u001B[38;5;241;43m=\u001B[39;49m\u001B[38;5;28;43;01mFalse\u001B[39;49;00m\u001B[43m)\u001B[49m\u001B[38;5;241m.\u001B[39mdecode(\u001B[38;5;124m\"\u001B[39m\u001B[38;5;124mascii\u001B[39m\u001B[38;5;124m\"\u001B[39m)\n\u001B[1;32m   1046\u001B[0m \u001B[38;5;28;01mexcept\u001B[39;00m \u001B[38;5;167;01mTypeError\u001B[39;00m \u001B[38;5;28;01mas\u001B[39;00m e:\n",
      "\u001B[0;31mTypeError\u001B[0m: a bytes-like object is required, not 'str'",
      "\nThe above exception was the direct cause of the following exception:\n",
      "\u001B[0;31mFileNotFoundError\u001B[0m                         Traceback (most recent call last)",
      "File \u001B[0;32m~/PycharmProjects/pythonProject/venv/lib/python3.10/site-packages/IPython/core/formatters.py:342\u001B[0m, in \u001B[0;36mBaseFormatter.__call__\u001B[0;34m(self, obj)\u001B[0m\n\u001B[1;32m    340\u001B[0m     method \u001B[38;5;241m=\u001B[39m get_real_method(obj, \u001B[38;5;28mself\u001B[39m\u001B[38;5;241m.\u001B[39mprint_method)\n\u001B[1;32m    341\u001B[0m     \u001B[38;5;28;01mif\u001B[39;00m method \u001B[38;5;129;01mis\u001B[39;00m \u001B[38;5;129;01mnot\u001B[39;00m \u001B[38;5;28;01mNone\u001B[39;00m:\n\u001B[0;32m--> 342\u001B[0m         \u001B[38;5;28;01mreturn\u001B[39;00m \u001B[43mmethod\u001B[49m\u001B[43m(\u001B[49m\u001B[43m)\u001B[49m\n\u001B[1;32m    343\u001B[0m     \u001B[38;5;28;01mreturn\u001B[39;00m \u001B[38;5;28;01mNone\u001B[39;00m\n\u001B[1;32m    344\u001B[0m \u001B[38;5;28;01melse\u001B[39;00m:\n",
      "File \u001B[0;32m~/PycharmProjects/pythonProject/venv/lib/python3.10/site-packages/IPython/core/display.py:1067\u001B[0m, in \u001B[0;36mImage._repr_png_\u001B[0;34m(self)\u001B[0m\n\u001B[1;32m   1065\u001B[0m \u001B[38;5;28;01mdef\u001B[39;00m \u001B[38;5;21m_repr_png_\u001B[39m(\u001B[38;5;28mself\u001B[39m):\n\u001B[1;32m   1066\u001B[0m     \u001B[38;5;28;01mif\u001B[39;00m \u001B[38;5;28mself\u001B[39m\u001B[38;5;241m.\u001B[39membed \u001B[38;5;129;01mand\u001B[39;00m \u001B[38;5;28mself\u001B[39m\u001B[38;5;241m.\u001B[39mformat \u001B[38;5;241m==\u001B[39m \u001B[38;5;28mself\u001B[39m\u001B[38;5;241m.\u001B[39m_FMT_PNG:\n\u001B[0;32m-> 1067\u001B[0m         \u001B[38;5;28;01mreturn\u001B[39;00m \u001B[38;5;28;43mself\u001B[39;49m\u001B[38;5;241;43m.\u001B[39;49m\u001B[43m_data_and_metadata\u001B[49m\u001B[43m(\u001B[49m\u001B[43m)\u001B[49m\n",
      "File \u001B[0;32m~/PycharmProjects/pythonProject/venv/lib/python3.10/site-packages/IPython/core/display.py:1047\u001B[0m, in \u001B[0;36mImage._data_and_metadata\u001B[0;34m(self, always_both)\u001B[0m\n\u001B[1;32m   1045\u001B[0m     b64_data \u001B[38;5;241m=\u001B[39m b2a_base64(\u001B[38;5;28mself\u001B[39m\u001B[38;5;241m.\u001B[39mdata, newline\u001B[38;5;241m=\u001B[39m\u001B[38;5;28;01mFalse\u001B[39;00m)\u001B[38;5;241m.\u001B[39mdecode(\u001B[38;5;124m\"\u001B[39m\u001B[38;5;124mascii\u001B[39m\u001B[38;5;124m\"\u001B[39m)\n\u001B[1;32m   1046\u001B[0m \u001B[38;5;28;01mexcept\u001B[39;00m \u001B[38;5;167;01mTypeError\u001B[39;00m \u001B[38;5;28;01mas\u001B[39;00m e:\n\u001B[0;32m-> 1047\u001B[0m     \u001B[38;5;28;01mraise\u001B[39;00m \u001B[38;5;167;01mFileNotFoundError\u001B[39;00m(\n\u001B[1;32m   1048\u001B[0m         \u001B[38;5;124m\"\u001B[39m\u001B[38;5;124mNo such file or directory: \u001B[39m\u001B[38;5;124m'\u001B[39m\u001B[38;5;132;01m%s\u001B[39;00m\u001B[38;5;124m'\u001B[39m\u001B[38;5;124m\"\u001B[39m \u001B[38;5;241m%\u001B[39m (\u001B[38;5;28mself\u001B[39m\u001B[38;5;241m.\u001B[39mdata)) \u001B[38;5;28;01mfrom\u001B[39;00m \u001B[38;5;21;01me\u001B[39;00m\n\u001B[1;32m   1049\u001B[0m md \u001B[38;5;241m=\u001B[39m {}\n\u001B[1;32m   1050\u001B[0m \u001B[38;5;28;01mif\u001B[39;00m \u001B[38;5;28mself\u001B[39m\u001B[38;5;241m.\u001B[39mmetadata:\n",
      "\u001B[0;31mFileNotFoundError\u001B[0m: No such file or directory: 'ExampleGraph.png'"
     ]
    },
    {
     "data": {
      "text/plain": "<IPython.core.display.Image object>"
     },
     "execution_count": 8,
     "metadata": {},
     "output_type": "execute_result"
    }
   ],
   "source": [
    "from IPython.display import Image\n",
    "Image('ExampleGraph.png')"
   ]
  },
  {
   "cell_type": "code",
   "execution_count": 9,
   "metadata": {
    "pycharm": {
     "name": "#%%\n"
    }
   },
   "outputs": [
    {
     "name": "stdout",
     "output_type": "stream",
     "text": [
      "Kruskal's\n",
      "Edge \tWeight\n",
      "2 - 3\t1\n",
      "1 - 2\t2\n",
      "0 - 3\t3\n",
      "0 - 4\t5\n",
      "Minimum Spanning Tree: 11\n"
     ]
    }
   ],
   "source": [
    "kruskalEdges = exampleGraph.KruskalMST()"
   ]
  },
  {
   "cell_type": "code",
   "execution_count": 10,
   "metadata": {
    "pycharm": {
     "name": "#%%\n"
    }
   },
   "outputs": [
    {
     "name": "stdout",
     "output_type": "stream",
     "text": [
      "graph {\n",
      "   graph [nodesep=2, size=\"10,10\"];\n",
      "    N0 [shape=\"box\", style=\"rounded\", label=\"0\"];\n",
      "    N1 [shape=\"box\", style=\"rounded\", label=\"1\"];\n",
      "    N2 [shape=\"box\", style=\"rounded\", label=\"2\"];\n",
      "    N3 [shape=\"box\", style=\"rounded\", label=\"3\"];\n",
      "    N4 [shape=\"box\", style=\"rounded\", label=\"4\"];\n",
      "    N0 -- N1 [label=\"4\"];\n",
      "    N0 -- N3 [color=red,penwidth=3.0] [label=\"3\"];\n",
      "    N0 -- N4 [color=red,penwidth=3.0] [label=\"5\"];\n",
      "    N1 -- N2 [color=red,penwidth=3.0] [label=\"2\"];\n",
      "    N2 -- N3 [color=red,penwidth=3.0] [label=\"1\"];\n",
      "    overlap=true;\n",
      "}\n",
      "\n"
     ]
    }
   ],
   "source": [
    "mstRender = exampleGraph.renderGraphMST(kruskalEdges)\n",
    "print(mstRender)\n",
    "with open(\"KruskalMST.dot\", 'w') as fp:\n",
    "    fp.write(mstRender)"
   ]
  },
  {
   "cell_type": "code",
   "execution_count": 11,
   "metadata": {
    "pycharm": {
     "name": "#%%\n"
    }
   },
   "outputs": [
    {
     "name": "stdout",
     "output_type": "stream",
     "text": [
      "zsh:1: command not found: circo\r\n"
     ]
    }
   ],
   "source": [
    "# The following command assumes that graphviz is installed.\n",
    "# See https://www.graphviz.org/\n",
    "!circo -Goverlap=scale -Tpng KruskalMST.dot -o KruskalMST.png"
   ]
  },
  {
   "cell_type": "code",
   "execution_count": 12,
   "metadata": {
    "pycharm": {
     "name": "#%%\n"
    }
   },
   "outputs": [
    {
     "ename": "FileNotFoundError",
     "evalue": "No such file or directory: 'KruskalMST.png'",
     "output_type": "error",
     "traceback": [
      "\u001B[0;31m---------------------------------------------------------------------------\u001B[0m",
      "\u001B[0;31mTypeError\u001B[0m                                 Traceback (most recent call last)",
      "File \u001B[0;32m~/PycharmProjects/pythonProject/venv/lib/python3.10/site-packages/IPython/core/display.py:1045\u001B[0m, in \u001B[0;36mImage._data_and_metadata\u001B[0;34m(self, always_both)\u001B[0m\n\u001B[1;32m   1044\u001B[0m \u001B[38;5;28;01mtry\u001B[39;00m:\n\u001B[0;32m-> 1045\u001B[0m     b64_data \u001B[38;5;241m=\u001B[39m \u001B[43mb2a_base64\u001B[49m\u001B[43m(\u001B[49m\u001B[38;5;28;43mself\u001B[39;49m\u001B[38;5;241;43m.\u001B[39;49m\u001B[43mdata\u001B[49m\u001B[43m,\u001B[49m\u001B[43m \u001B[49m\u001B[43mnewline\u001B[49m\u001B[38;5;241;43m=\u001B[39;49m\u001B[38;5;28;43;01mFalse\u001B[39;49;00m\u001B[43m)\u001B[49m\u001B[38;5;241m.\u001B[39mdecode(\u001B[38;5;124m\"\u001B[39m\u001B[38;5;124mascii\u001B[39m\u001B[38;5;124m\"\u001B[39m)\n\u001B[1;32m   1046\u001B[0m \u001B[38;5;28;01mexcept\u001B[39;00m \u001B[38;5;167;01mTypeError\u001B[39;00m \u001B[38;5;28;01mas\u001B[39;00m e:\n",
      "\u001B[0;31mTypeError\u001B[0m: a bytes-like object is required, not 'str'",
      "\nThe above exception was the direct cause of the following exception:\n",
      "\u001B[0;31mFileNotFoundError\u001B[0m                         Traceback (most recent call last)",
      "File \u001B[0;32m~/PycharmProjects/pythonProject/venv/lib/python3.10/site-packages/IPython/core/formatters.py:972\u001B[0m, in \u001B[0;36mMimeBundleFormatter.__call__\u001B[0;34m(self, obj, include, exclude)\u001B[0m\n\u001B[1;32m    969\u001B[0m     method \u001B[38;5;241m=\u001B[39m get_real_method(obj, \u001B[38;5;28mself\u001B[39m\u001B[38;5;241m.\u001B[39mprint_method)\n\u001B[1;32m    971\u001B[0m     \u001B[38;5;28;01mif\u001B[39;00m method \u001B[38;5;129;01mis\u001B[39;00m \u001B[38;5;129;01mnot\u001B[39;00m \u001B[38;5;28;01mNone\u001B[39;00m:\n\u001B[0;32m--> 972\u001B[0m         \u001B[38;5;28;01mreturn\u001B[39;00m \u001B[43mmethod\u001B[49m\u001B[43m(\u001B[49m\u001B[43minclude\u001B[49m\u001B[38;5;241;43m=\u001B[39;49m\u001B[43minclude\u001B[49m\u001B[43m,\u001B[49m\u001B[43m \u001B[49m\u001B[43mexclude\u001B[49m\u001B[38;5;241;43m=\u001B[39;49m\u001B[43mexclude\u001B[49m\u001B[43m)\u001B[49m\n\u001B[1;32m    973\u001B[0m     \u001B[38;5;28;01mreturn\u001B[39;00m \u001B[38;5;28;01mNone\u001B[39;00m\n\u001B[1;32m    974\u001B[0m \u001B[38;5;28;01melse\u001B[39;00m:\n",
      "File \u001B[0;32m~/PycharmProjects/pythonProject/venv/lib/python3.10/site-packages/IPython/core/display.py:1035\u001B[0m, in \u001B[0;36mImage._repr_mimebundle_\u001B[0;34m(self, include, exclude)\u001B[0m\n\u001B[1;32m   1033\u001B[0m \u001B[38;5;28;01mif\u001B[39;00m \u001B[38;5;28mself\u001B[39m\u001B[38;5;241m.\u001B[39membed:\n\u001B[1;32m   1034\u001B[0m     mimetype \u001B[38;5;241m=\u001B[39m \u001B[38;5;28mself\u001B[39m\u001B[38;5;241m.\u001B[39m_mimetype\n\u001B[0;32m-> 1035\u001B[0m     data, metadata \u001B[38;5;241m=\u001B[39m \u001B[38;5;28;43mself\u001B[39;49m\u001B[38;5;241;43m.\u001B[39;49m\u001B[43m_data_and_metadata\u001B[49m\u001B[43m(\u001B[49m\u001B[43malways_both\u001B[49m\u001B[38;5;241;43m=\u001B[39;49m\u001B[38;5;28;43;01mTrue\u001B[39;49;00m\u001B[43m)\u001B[49m\n\u001B[1;32m   1036\u001B[0m     \u001B[38;5;28;01mif\u001B[39;00m metadata:\n\u001B[1;32m   1037\u001B[0m         metadata \u001B[38;5;241m=\u001B[39m {mimetype: metadata}\n",
      "File \u001B[0;32m~/PycharmProjects/pythonProject/venv/lib/python3.10/site-packages/IPython/core/display.py:1047\u001B[0m, in \u001B[0;36mImage._data_and_metadata\u001B[0;34m(self, always_both)\u001B[0m\n\u001B[1;32m   1045\u001B[0m     b64_data \u001B[38;5;241m=\u001B[39m b2a_base64(\u001B[38;5;28mself\u001B[39m\u001B[38;5;241m.\u001B[39mdata, newline\u001B[38;5;241m=\u001B[39m\u001B[38;5;28;01mFalse\u001B[39;00m)\u001B[38;5;241m.\u001B[39mdecode(\u001B[38;5;124m\"\u001B[39m\u001B[38;5;124mascii\u001B[39m\u001B[38;5;124m\"\u001B[39m)\n\u001B[1;32m   1046\u001B[0m \u001B[38;5;28;01mexcept\u001B[39;00m \u001B[38;5;167;01mTypeError\u001B[39;00m \u001B[38;5;28;01mas\u001B[39;00m e:\n\u001B[0;32m-> 1047\u001B[0m     \u001B[38;5;28;01mraise\u001B[39;00m \u001B[38;5;167;01mFileNotFoundError\u001B[39;00m(\n\u001B[1;32m   1048\u001B[0m         \u001B[38;5;124m\"\u001B[39m\u001B[38;5;124mNo such file or directory: \u001B[39m\u001B[38;5;124m'\u001B[39m\u001B[38;5;132;01m%s\u001B[39;00m\u001B[38;5;124m'\u001B[39m\u001B[38;5;124m\"\u001B[39m \u001B[38;5;241m%\u001B[39m (\u001B[38;5;28mself\u001B[39m\u001B[38;5;241m.\u001B[39mdata)) \u001B[38;5;28;01mfrom\u001B[39;00m \u001B[38;5;21;01me\u001B[39;00m\n\u001B[1;32m   1049\u001B[0m md \u001B[38;5;241m=\u001B[39m {}\n\u001B[1;32m   1050\u001B[0m \u001B[38;5;28;01mif\u001B[39;00m \u001B[38;5;28mself\u001B[39m\u001B[38;5;241m.\u001B[39mmetadata:\n",
      "\u001B[0;31mFileNotFoundError\u001B[0m: No such file or directory: 'KruskalMST.png'"
     ]
    },
    {
     "ename": "FileNotFoundError",
     "evalue": "No such file or directory: 'KruskalMST.png'",
     "output_type": "error",
     "traceback": [
      "\u001B[0;31m---------------------------------------------------------------------------\u001B[0m",
      "\u001B[0;31mTypeError\u001B[0m                                 Traceback (most recent call last)",
      "File \u001B[0;32m~/PycharmProjects/pythonProject/venv/lib/python3.10/site-packages/IPython/core/display.py:1045\u001B[0m, in \u001B[0;36mImage._data_and_metadata\u001B[0;34m(self, always_both)\u001B[0m\n\u001B[1;32m   1044\u001B[0m \u001B[38;5;28;01mtry\u001B[39;00m:\n\u001B[0;32m-> 1045\u001B[0m     b64_data \u001B[38;5;241m=\u001B[39m \u001B[43mb2a_base64\u001B[49m\u001B[43m(\u001B[49m\u001B[38;5;28;43mself\u001B[39;49m\u001B[38;5;241;43m.\u001B[39;49m\u001B[43mdata\u001B[49m\u001B[43m,\u001B[49m\u001B[43m \u001B[49m\u001B[43mnewline\u001B[49m\u001B[38;5;241;43m=\u001B[39;49m\u001B[38;5;28;43;01mFalse\u001B[39;49;00m\u001B[43m)\u001B[49m\u001B[38;5;241m.\u001B[39mdecode(\u001B[38;5;124m\"\u001B[39m\u001B[38;5;124mascii\u001B[39m\u001B[38;5;124m\"\u001B[39m)\n\u001B[1;32m   1046\u001B[0m \u001B[38;5;28;01mexcept\u001B[39;00m \u001B[38;5;167;01mTypeError\u001B[39;00m \u001B[38;5;28;01mas\u001B[39;00m e:\n",
      "\u001B[0;31mTypeError\u001B[0m: a bytes-like object is required, not 'str'",
      "\nThe above exception was the direct cause of the following exception:\n",
      "\u001B[0;31mFileNotFoundError\u001B[0m                         Traceback (most recent call last)",
      "File \u001B[0;32m~/PycharmProjects/pythonProject/venv/lib/python3.10/site-packages/IPython/core/formatters.py:342\u001B[0m, in \u001B[0;36mBaseFormatter.__call__\u001B[0;34m(self, obj)\u001B[0m\n\u001B[1;32m    340\u001B[0m     method \u001B[38;5;241m=\u001B[39m get_real_method(obj, \u001B[38;5;28mself\u001B[39m\u001B[38;5;241m.\u001B[39mprint_method)\n\u001B[1;32m    341\u001B[0m     \u001B[38;5;28;01mif\u001B[39;00m method \u001B[38;5;129;01mis\u001B[39;00m \u001B[38;5;129;01mnot\u001B[39;00m \u001B[38;5;28;01mNone\u001B[39;00m:\n\u001B[0;32m--> 342\u001B[0m         \u001B[38;5;28;01mreturn\u001B[39;00m \u001B[43mmethod\u001B[49m\u001B[43m(\u001B[49m\u001B[43m)\u001B[49m\n\u001B[1;32m    343\u001B[0m     \u001B[38;5;28;01mreturn\u001B[39;00m \u001B[38;5;28;01mNone\u001B[39;00m\n\u001B[1;32m    344\u001B[0m \u001B[38;5;28;01melse\u001B[39;00m:\n",
      "File \u001B[0;32m~/PycharmProjects/pythonProject/venv/lib/python3.10/site-packages/IPython/core/display.py:1067\u001B[0m, in \u001B[0;36mImage._repr_png_\u001B[0;34m(self)\u001B[0m\n\u001B[1;32m   1065\u001B[0m \u001B[38;5;28;01mdef\u001B[39;00m \u001B[38;5;21m_repr_png_\u001B[39m(\u001B[38;5;28mself\u001B[39m):\n\u001B[1;32m   1066\u001B[0m     \u001B[38;5;28;01mif\u001B[39;00m \u001B[38;5;28mself\u001B[39m\u001B[38;5;241m.\u001B[39membed \u001B[38;5;129;01mand\u001B[39;00m \u001B[38;5;28mself\u001B[39m\u001B[38;5;241m.\u001B[39mformat \u001B[38;5;241m==\u001B[39m \u001B[38;5;28mself\u001B[39m\u001B[38;5;241m.\u001B[39m_FMT_PNG:\n\u001B[0;32m-> 1067\u001B[0m         \u001B[38;5;28;01mreturn\u001B[39;00m \u001B[38;5;28;43mself\u001B[39;49m\u001B[38;5;241;43m.\u001B[39;49m\u001B[43m_data_and_metadata\u001B[49m\u001B[43m(\u001B[49m\u001B[43m)\u001B[49m\n",
      "File \u001B[0;32m~/PycharmProjects/pythonProject/venv/lib/python3.10/site-packages/IPython/core/display.py:1047\u001B[0m, in \u001B[0;36mImage._data_and_metadata\u001B[0;34m(self, always_both)\u001B[0m\n\u001B[1;32m   1045\u001B[0m     b64_data \u001B[38;5;241m=\u001B[39m b2a_base64(\u001B[38;5;28mself\u001B[39m\u001B[38;5;241m.\u001B[39mdata, newline\u001B[38;5;241m=\u001B[39m\u001B[38;5;28;01mFalse\u001B[39;00m)\u001B[38;5;241m.\u001B[39mdecode(\u001B[38;5;124m\"\u001B[39m\u001B[38;5;124mascii\u001B[39m\u001B[38;5;124m\"\u001B[39m)\n\u001B[1;32m   1046\u001B[0m \u001B[38;5;28;01mexcept\u001B[39;00m \u001B[38;5;167;01mTypeError\u001B[39;00m \u001B[38;5;28;01mas\u001B[39;00m e:\n\u001B[0;32m-> 1047\u001B[0m     \u001B[38;5;28;01mraise\u001B[39;00m \u001B[38;5;167;01mFileNotFoundError\u001B[39;00m(\n\u001B[1;32m   1048\u001B[0m         \u001B[38;5;124m\"\u001B[39m\u001B[38;5;124mNo such file or directory: \u001B[39m\u001B[38;5;124m'\u001B[39m\u001B[38;5;132;01m%s\u001B[39;00m\u001B[38;5;124m'\u001B[39m\u001B[38;5;124m\"\u001B[39m \u001B[38;5;241m%\u001B[39m (\u001B[38;5;28mself\u001B[39m\u001B[38;5;241m.\u001B[39mdata)) \u001B[38;5;28;01mfrom\u001B[39;00m \u001B[38;5;21;01me\u001B[39;00m\n\u001B[1;32m   1049\u001B[0m md \u001B[38;5;241m=\u001B[39m {}\n\u001B[1;32m   1050\u001B[0m \u001B[38;5;28;01mif\u001B[39;00m \u001B[38;5;28mself\u001B[39m\u001B[38;5;241m.\u001B[39mmetadata:\n",
      "\u001B[0;31mFileNotFoundError\u001B[0m: No such file or directory: 'KruskalMST.png'"
     ]
    },
    {
     "data": {
      "text/plain": "<IPython.core.display.Image object>"
     },
     "execution_count": 12,
     "metadata": {},
     "output_type": "execute_result"
    }
   ],
   "source": [
    "from IPython.display import Image\n",
    "Image('KruskalMST.png')"
   ]
  },
  {
   "cell_type": "code",
   "execution_count": 13,
   "metadata": {
    "pycharm": {
     "name": "#%%\n"
    }
   },
   "outputs": [
    {
     "name": "stdout",
     "output_type": "stream",
     "text": [
      "Prim's\n",
      "Edge \tWeight\n",
      "2 - 1\t2\n",
      "3 - 2\t1\n",
      "0 - 3\t3\n",
      "0 - 4\t5\n",
      "Minimum Spanning Tree: 11\n"
     ]
    }
   ],
   "source": [
    "primEdges = exampleGraph.primMST()"
   ]
  },
  {
   "cell_type": "code",
   "execution_count": 14,
   "metadata": {
    "pycharm": {
     "name": "#%%\n"
    }
   },
   "outputs": [
    {
     "name": "stdout",
     "output_type": "stream",
     "text": [
      "graph {\n",
      "   graph [nodesep=2, size=\"10,10\"];\n",
      "    N0 [shape=\"box\", style=\"rounded\", label=\"0\"];\n",
      "    N1 [shape=\"box\", style=\"rounded\", label=\"1\"];\n",
      "    N2 [shape=\"box\", style=\"rounded\", label=\"2\"];\n",
      "    N3 [shape=\"box\", style=\"rounded\", label=\"3\"];\n",
      "    N4 [shape=\"box\", style=\"rounded\", label=\"4\"];\n",
      "    N0 -- N1 [label=\"4\"];\n",
      "    N0 -- N3 [color=red,penwidth=3.0] [label=\"3\"];\n",
      "    N0 -- N4 [color=red,penwidth=3.0] [label=\"5\"];\n",
      "    N1 -- N2 [color=red,penwidth=3.0] [label=\"2\"];\n",
      "    N2 -- N3 [color=red,penwidth=3.0] [label=\"1\"];\n",
      "    overlap=true;\n",
      "}\n",
      "\n"
     ]
    }
   ],
   "source": [
    "mstRender = exampleGraph.renderGraphMST(primEdges)\n",
    "print(mstRender)\n",
    "with open(\"PrimMST.dot\", 'w') as fp:\n",
    "    fp.write(mstRender)"
   ]
  },
  {
   "cell_type": "code",
   "execution_count": 15,
   "metadata": {
    "pycharm": {
     "name": "#%%\n"
    }
   },
   "outputs": [
    {
     "name": "stdout",
     "output_type": "stream",
     "text": [
      "zsh:1: command not found: circo\r\n"
     ]
    }
   ],
   "source": [
    "# The following command assumes that graphviz is installed.\n",
    "# See https://www.graphviz.org/\n",
    "!circo -Goverlap=scale -Tpng PrimMST.dot -o PrimMST.png"
   ]
  },
  {
   "cell_type": "code",
   "execution_count": 16,
   "metadata": {
    "pycharm": {
     "name": "#%%\n"
    }
   },
   "outputs": [
    {
     "ename": "FileNotFoundError",
     "evalue": "No such file or directory: 'PrimMST.png'",
     "output_type": "error",
     "traceback": [
      "\u001B[0;31m---------------------------------------------------------------------------\u001B[0m",
      "\u001B[0;31mTypeError\u001B[0m                                 Traceback (most recent call last)",
      "File \u001B[0;32m~/PycharmProjects/pythonProject/venv/lib/python3.10/site-packages/IPython/core/display.py:1045\u001B[0m, in \u001B[0;36mImage._data_and_metadata\u001B[0;34m(self, always_both)\u001B[0m\n\u001B[1;32m   1044\u001B[0m \u001B[38;5;28;01mtry\u001B[39;00m:\n\u001B[0;32m-> 1045\u001B[0m     b64_data \u001B[38;5;241m=\u001B[39m \u001B[43mb2a_base64\u001B[49m\u001B[43m(\u001B[49m\u001B[38;5;28;43mself\u001B[39;49m\u001B[38;5;241;43m.\u001B[39;49m\u001B[43mdata\u001B[49m\u001B[43m,\u001B[49m\u001B[43m \u001B[49m\u001B[43mnewline\u001B[49m\u001B[38;5;241;43m=\u001B[39;49m\u001B[38;5;28;43;01mFalse\u001B[39;49;00m\u001B[43m)\u001B[49m\u001B[38;5;241m.\u001B[39mdecode(\u001B[38;5;124m\"\u001B[39m\u001B[38;5;124mascii\u001B[39m\u001B[38;5;124m\"\u001B[39m)\n\u001B[1;32m   1046\u001B[0m \u001B[38;5;28;01mexcept\u001B[39;00m \u001B[38;5;167;01mTypeError\u001B[39;00m \u001B[38;5;28;01mas\u001B[39;00m e:\n",
      "\u001B[0;31mTypeError\u001B[0m: a bytes-like object is required, not 'str'",
      "\nThe above exception was the direct cause of the following exception:\n",
      "\u001B[0;31mFileNotFoundError\u001B[0m                         Traceback (most recent call last)",
      "File \u001B[0;32m~/PycharmProjects/pythonProject/venv/lib/python3.10/site-packages/IPython/core/formatters.py:972\u001B[0m, in \u001B[0;36mMimeBundleFormatter.__call__\u001B[0;34m(self, obj, include, exclude)\u001B[0m\n\u001B[1;32m    969\u001B[0m     method \u001B[38;5;241m=\u001B[39m get_real_method(obj, \u001B[38;5;28mself\u001B[39m\u001B[38;5;241m.\u001B[39mprint_method)\n\u001B[1;32m    971\u001B[0m     \u001B[38;5;28;01mif\u001B[39;00m method \u001B[38;5;129;01mis\u001B[39;00m \u001B[38;5;129;01mnot\u001B[39;00m \u001B[38;5;28;01mNone\u001B[39;00m:\n\u001B[0;32m--> 972\u001B[0m         \u001B[38;5;28;01mreturn\u001B[39;00m \u001B[43mmethod\u001B[49m\u001B[43m(\u001B[49m\u001B[43minclude\u001B[49m\u001B[38;5;241;43m=\u001B[39;49m\u001B[43minclude\u001B[49m\u001B[43m,\u001B[49m\u001B[43m \u001B[49m\u001B[43mexclude\u001B[49m\u001B[38;5;241;43m=\u001B[39;49m\u001B[43mexclude\u001B[49m\u001B[43m)\u001B[49m\n\u001B[1;32m    973\u001B[0m     \u001B[38;5;28;01mreturn\u001B[39;00m \u001B[38;5;28;01mNone\u001B[39;00m\n\u001B[1;32m    974\u001B[0m \u001B[38;5;28;01melse\u001B[39;00m:\n",
      "File \u001B[0;32m~/PycharmProjects/pythonProject/venv/lib/python3.10/site-packages/IPython/core/display.py:1035\u001B[0m, in \u001B[0;36mImage._repr_mimebundle_\u001B[0;34m(self, include, exclude)\u001B[0m\n\u001B[1;32m   1033\u001B[0m \u001B[38;5;28;01mif\u001B[39;00m \u001B[38;5;28mself\u001B[39m\u001B[38;5;241m.\u001B[39membed:\n\u001B[1;32m   1034\u001B[0m     mimetype \u001B[38;5;241m=\u001B[39m \u001B[38;5;28mself\u001B[39m\u001B[38;5;241m.\u001B[39m_mimetype\n\u001B[0;32m-> 1035\u001B[0m     data, metadata \u001B[38;5;241m=\u001B[39m \u001B[38;5;28;43mself\u001B[39;49m\u001B[38;5;241;43m.\u001B[39;49m\u001B[43m_data_and_metadata\u001B[49m\u001B[43m(\u001B[49m\u001B[43malways_both\u001B[49m\u001B[38;5;241;43m=\u001B[39;49m\u001B[38;5;28;43;01mTrue\u001B[39;49;00m\u001B[43m)\u001B[49m\n\u001B[1;32m   1036\u001B[0m     \u001B[38;5;28;01mif\u001B[39;00m metadata:\n\u001B[1;32m   1037\u001B[0m         metadata \u001B[38;5;241m=\u001B[39m {mimetype: metadata}\n",
      "File \u001B[0;32m~/PycharmProjects/pythonProject/venv/lib/python3.10/site-packages/IPython/core/display.py:1047\u001B[0m, in \u001B[0;36mImage._data_and_metadata\u001B[0;34m(self, always_both)\u001B[0m\n\u001B[1;32m   1045\u001B[0m     b64_data \u001B[38;5;241m=\u001B[39m b2a_base64(\u001B[38;5;28mself\u001B[39m\u001B[38;5;241m.\u001B[39mdata, newline\u001B[38;5;241m=\u001B[39m\u001B[38;5;28;01mFalse\u001B[39;00m)\u001B[38;5;241m.\u001B[39mdecode(\u001B[38;5;124m\"\u001B[39m\u001B[38;5;124mascii\u001B[39m\u001B[38;5;124m\"\u001B[39m)\n\u001B[1;32m   1046\u001B[0m \u001B[38;5;28;01mexcept\u001B[39;00m \u001B[38;5;167;01mTypeError\u001B[39;00m \u001B[38;5;28;01mas\u001B[39;00m e:\n\u001B[0;32m-> 1047\u001B[0m     \u001B[38;5;28;01mraise\u001B[39;00m \u001B[38;5;167;01mFileNotFoundError\u001B[39;00m(\n\u001B[1;32m   1048\u001B[0m         \u001B[38;5;124m\"\u001B[39m\u001B[38;5;124mNo such file or directory: \u001B[39m\u001B[38;5;124m'\u001B[39m\u001B[38;5;132;01m%s\u001B[39;00m\u001B[38;5;124m'\u001B[39m\u001B[38;5;124m\"\u001B[39m \u001B[38;5;241m%\u001B[39m (\u001B[38;5;28mself\u001B[39m\u001B[38;5;241m.\u001B[39mdata)) \u001B[38;5;28;01mfrom\u001B[39;00m \u001B[38;5;21;01me\u001B[39;00m\n\u001B[1;32m   1049\u001B[0m md \u001B[38;5;241m=\u001B[39m {}\n\u001B[1;32m   1050\u001B[0m \u001B[38;5;28;01mif\u001B[39;00m \u001B[38;5;28mself\u001B[39m\u001B[38;5;241m.\u001B[39mmetadata:\n",
      "\u001B[0;31mFileNotFoundError\u001B[0m: No such file or directory: 'PrimMST.png'"
     ]
    },
    {
     "ename": "FileNotFoundError",
     "evalue": "No such file or directory: 'PrimMST.png'",
     "output_type": "error",
     "traceback": [
      "\u001B[0;31m---------------------------------------------------------------------------\u001B[0m",
      "\u001B[0;31mTypeError\u001B[0m                                 Traceback (most recent call last)",
      "File \u001B[0;32m~/PycharmProjects/pythonProject/venv/lib/python3.10/site-packages/IPython/core/display.py:1045\u001B[0m, in \u001B[0;36mImage._data_and_metadata\u001B[0;34m(self, always_both)\u001B[0m\n\u001B[1;32m   1044\u001B[0m \u001B[38;5;28;01mtry\u001B[39;00m:\n\u001B[0;32m-> 1045\u001B[0m     b64_data \u001B[38;5;241m=\u001B[39m \u001B[43mb2a_base64\u001B[49m\u001B[43m(\u001B[49m\u001B[38;5;28;43mself\u001B[39;49m\u001B[38;5;241;43m.\u001B[39;49m\u001B[43mdata\u001B[49m\u001B[43m,\u001B[49m\u001B[43m \u001B[49m\u001B[43mnewline\u001B[49m\u001B[38;5;241;43m=\u001B[39;49m\u001B[38;5;28;43;01mFalse\u001B[39;49;00m\u001B[43m)\u001B[49m\u001B[38;5;241m.\u001B[39mdecode(\u001B[38;5;124m\"\u001B[39m\u001B[38;5;124mascii\u001B[39m\u001B[38;5;124m\"\u001B[39m)\n\u001B[1;32m   1046\u001B[0m \u001B[38;5;28;01mexcept\u001B[39;00m \u001B[38;5;167;01mTypeError\u001B[39;00m \u001B[38;5;28;01mas\u001B[39;00m e:\n",
      "\u001B[0;31mTypeError\u001B[0m: a bytes-like object is required, not 'str'",
      "\nThe above exception was the direct cause of the following exception:\n",
      "\u001B[0;31mFileNotFoundError\u001B[0m                         Traceback (most recent call last)",
      "File \u001B[0;32m~/PycharmProjects/pythonProject/venv/lib/python3.10/site-packages/IPython/core/formatters.py:342\u001B[0m, in \u001B[0;36mBaseFormatter.__call__\u001B[0;34m(self, obj)\u001B[0m\n\u001B[1;32m    340\u001B[0m     method \u001B[38;5;241m=\u001B[39m get_real_method(obj, \u001B[38;5;28mself\u001B[39m\u001B[38;5;241m.\u001B[39mprint_method)\n\u001B[1;32m    341\u001B[0m     \u001B[38;5;28;01mif\u001B[39;00m method \u001B[38;5;129;01mis\u001B[39;00m \u001B[38;5;129;01mnot\u001B[39;00m \u001B[38;5;28;01mNone\u001B[39;00m:\n\u001B[0;32m--> 342\u001B[0m         \u001B[38;5;28;01mreturn\u001B[39;00m \u001B[43mmethod\u001B[49m\u001B[43m(\u001B[49m\u001B[43m)\u001B[49m\n\u001B[1;32m    343\u001B[0m     \u001B[38;5;28;01mreturn\u001B[39;00m \u001B[38;5;28;01mNone\u001B[39;00m\n\u001B[1;32m    344\u001B[0m \u001B[38;5;28;01melse\u001B[39;00m:\n",
      "File \u001B[0;32m~/PycharmProjects/pythonProject/venv/lib/python3.10/site-packages/IPython/core/display.py:1067\u001B[0m, in \u001B[0;36mImage._repr_png_\u001B[0;34m(self)\u001B[0m\n\u001B[1;32m   1065\u001B[0m \u001B[38;5;28;01mdef\u001B[39;00m \u001B[38;5;21m_repr_png_\u001B[39m(\u001B[38;5;28mself\u001B[39m):\n\u001B[1;32m   1066\u001B[0m     \u001B[38;5;28;01mif\u001B[39;00m \u001B[38;5;28mself\u001B[39m\u001B[38;5;241m.\u001B[39membed \u001B[38;5;129;01mand\u001B[39;00m \u001B[38;5;28mself\u001B[39m\u001B[38;5;241m.\u001B[39mformat \u001B[38;5;241m==\u001B[39m \u001B[38;5;28mself\u001B[39m\u001B[38;5;241m.\u001B[39m_FMT_PNG:\n\u001B[0;32m-> 1067\u001B[0m         \u001B[38;5;28;01mreturn\u001B[39;00m \u001B[38;5;28;43mself\u001B[39;49m\u001B[38;5;241;43m.\u001B[39;49m\u001B[43m_data_and_metadata\u001B[49m\u001B[43m(\u001B[49m\u001B[43m)\u001B[49m\n",
      "File \u001B[0;32m~/PycharmProjects/pythonProject/venv/lib/python3.10/site-packages/IPython/core/display.py:1047\u001B[0m, in \u001B[0;36mImage._data_and_metadata\u001B[0;34m(self, always_both)\u001B[0m\n\u001B[1;32m   1045\u001B[0m     b64_data \u001B[38;5;241m=\u001B[39m b2a_base64(\u001B[38;5;28mself\u001B[39m\u001B[38;5;241m.\u001B[39mdata, newline\u001B[38;5;241m=\u001B[39m\u001B[38;5;28;01mFalse\u001B[39;00m)\u001B[38;5;241m.\u001B[39mdecode(\u001B[38;5;124m\"\u001B[39m\u001B[38;5;124mascii\u001B[39m\u001B[38;5;124m\"\u001B[39m)\n\u001B[1;32m   1046\u001B[0m \u001B[38;5;28;01mexcept\u001B[39;00m \u001B[38;5;167;01mTypeError\u001B[39;00m \u001B[38;5;28;01mas\u001B[39;00m e:\n\u001B[0;32m-> 1047\u001B[0m     \u001B[38;5;28;01mraise\u001B[39;00m \u001B[38;5;167;01mFileNotFoundError\u001B[39;00m(\n\u001B[1;32m   1048\u001B[0m         \u001B[38;5;124m\"\u001B[39m\u001B[38;5;124mNo such file or directory: \u001B[39m\u001B[38;5;124m'\u001B[39m\u001B[38;5;132;01m%s\u001B[39;00m\u001B[38;5;124m'\u001B[39m\u001B[38;5;124m\"\u001B[39m \u001B[38;5;241m%\u001B[39m (\u001B[38;5;28mself\u001B[39m\u001B[38;5;241m.\u001B[39mdata)) \u001B[38;5;28;01mfrom\u001B[39;00m \u001B[38;5;21;01me\u001B[39;00m\n\u001B[1;32m   1049\u001B[0m md \u001B[38;5;241m=\u001B[39m {}\n\u001B[1;32m   1050\u001B[0m \u001B[38;5;28;01mif\u001B[39;00m \u001B[38;5;28mself\u001B[39m\u001B[38;5;241m.\u001B[39mmetadata:\n",
      "\u001B[0;31mFileNotFoundError\u001B[0m: No such file or directory: 'PrimMST.png'"
     ]
    },
    {
     "data": {
      "text/plain": "<IPython.core.display.Image object>"
     },
     "execution_count": 16,
     "metadata": {},
     "output_type": "execute_result"
    }
   ],
   "source": [
    "from IPython.display import Image\n",
    "Image('PrimMST.png')"
   ]
  },
  {
   "cell_type": "code",
   "execution_count": 17,
   "metadata": {
    "pycharm": {
     "name": "#%%\n"
    }
   },
   "outputs": [
    {
     "name": "stdout",
     "output_type": "stream",
     "text": [
      "Kruskal's\n",
      "Edge \tWeight\n",
      "0 - 1\t2\n",
      "1 - 2\t3\n",
      "1 - 4\t5\n",
      "0 - 3\t6\n",
      "Minimum Spanning Tree: 16\n",
      "Prim's\n",
      "Edge \tWeight\n",
      "0 - 1\t2\n",
      "1 - 2\t3\n",
      "0 - 3\t6\n",
      "1 - 4\t5\n",
      "Minimum Spanning Tree: 16\n",
      "graph {\n",
      "   graph [nodesep=2, size=\"10,10\"];\n",
      "    N0 [shape=\"box\", style=\"rounded\", label=\"0\"];\n",
      "    N1 [shape=\"box\", style=\"rounded\", label=\"1\"];\n",
      "    N2 [shape=\"box\", style=\"rounded\", label=\"2\"];\n",
      "    N3 [shape=\"box\", style=\"rounded\", label=\"3\"];\n",
      "    N4 [shape=\"box\", style=\"rounded\", label=\"4\"];\n",
      "    N0 -- N1 [color=red,penwidth=3.0] [label=\"2\"];\n",
      "    N0 -- N3 [color=red,penwidth=3.0] [label=\"6\"];\n",
      "    N1 -- N2 [color=red,penwidth=3.0] [label=\"3\"];\n",
      "    N1 -- N3 [label=\"8\"];\n",
      "    N1 -- N4 [color=red,penwidth=3.0] [label=\"5\"];\n",
      "    N2 -- N4 [label=\"7\"];\n",
      "    N3 -- N4 [label=\"9\"];\n",
      "    overlap=true;\n",
      "}\n",
      "\n",
      "graph {\n",
      "   graph [nodesep=2, size=\"10,10\"];\n",
      "    N0 [shape=\"box\", style=\"rounded\", label=\"0\"];\n",
      "    N1 [shape=\"box\", style=\"rounded\", label=\"1\"];\n",
      "    N2 [shape=\"box\", style=\"rounded\", label=\"2\"];\n",
      "    N3 [shape=\"box\", style=\"rounded\", label=\"3\"];\n",
      "    N4 [shape=\"box\", style=\"rounded\", label=\"4\"];\n",
      "    N0 -- N1 [color=red,penwidth=3.0] [label=\"2\"];\n",
      "    N0 -- N3 [color=red,penwidth=3.0] [label=\"6\"];\n",
      "    N1 -- N2 [color=red,penwidth=3.0] [label=\"3\"];\n",
      "    N1 -- N3 [label=\"8\"];\n",
      "    N1 -- N4 [color=red,penwidth=3.0] [label=\"5\"];\n",
      "    N2 -- N4 [label=\"7\"];\n",
      "    N3 -- N4 [label=\"9\"];\n",
      "    overlap=true;\n",
      "}\n",
      "\n"
     ]
    }
   ],
   "source": [
    "matrix = [[0, 2, 0, 6, 0], [2, 0, 3, 8, 5], [0, 3, 0, 0, 7],[6, 8, 0, 0, 9],  [0, 5, 7, 9, 0]]\n",
    "exampleGraph = Graph(len(matrix))\n",
    "exampleGraph.graph = matrix\n",
    "kruskalEdges = exampleGraph.KruskalMST()\n",
    "primEdges = exampleGraph.primMST()\n",
    " \n",
    "mstRender = exampleGraph.renderGraphMST(kruskalEdges)\n",
    "print(mstRender)\n",
    "with open(\"AnotherKruskalMST.dot\", 'w') as fp:\n",
    "    fp.write(mstRender)\n",
    "\n",
    "    \n",
    "mstRender = exampleGraph.renderGraphMST(primEdges)\n",
    "print(mstRender)\n",
    "with open(\"AnotherPrimMST.dot\", 'w') as fp:\n",
    "    fp.write(mstRender)"
   ]
  },
  {
   "cell_type": "code",
   "execution_count": 18,
   "metadata": {
    "pycharm": {
     "name": "#%%\n"
    }
   },
   "outputs": [
    {
     "name": "stdout",
     "output_type": "stream",
     "text": [
      "zsh:1: command not found: circo\r\n"
     ]
    }
   ],
   "source": [
    "# The following command assumes that graphviz is installed.\n",
    "# See https://www.graphviz.org/\n",
    "!circo -Goverlap=scale -Tpng AnotherKruskalMST.dot -o AnotherKruskalMST.png"
   ]
  },
  {
   "cell_type": "code",
   "execution_count": 19,
   "metadata": {
    "pycharm": {
     "name": "#%%\n"
    }
   },
   "outputs": [
    {
     "ename": "FileNotFoundError",
     "evalue": "No such file or directory: 'AnotherKruskalMST.png'",
     "output_type": "error",
     "traceback": [
      "\u001B[0;31m---------------------------------------------------------------------------\u001B[0m",
      "\u001B[0;31mTypeError\u001B[0m                                 Traceback (most recent call last)",
      "File \u001B[0;32m~/PycharmProjects/pythonProject/venv/lib/python3.10/site-packages/IPython/core/display.py:1045\u001B[0m, in \u001B[0;36mImage._data_and_metadata\u001B[0;34m(self, always_both)\u001B[0m\n\u001B[1;32m   1044\u001B[0m \u001B[38;5;28;01mtry\u001B[39;00m:\n\u001B[0;32m-> 1045\u001B[0m     b64_data \u001B[38;5;241m=\u001B[39m \u001B[43mb2a_base64\u001B[49m\u001B[43m(\u001B[49m\u001B[38;5;28;43mself\u001B[39;49m\u001B[38;5;241;43m.\u001B[39;49m\u001B[43mdata\u001B[49m\u001B[43m,\u001B[49m\u001B[43m \u001B[49m\u001B[43mnewline\u001B[49m\u001B[38;5;241;43m=\u001B[39;49m\u001B[38;5;28;43;01mFalse\u001B[39;49;00m\u001B[43m)\u001B[49m\u001B[38;5;241m.\u001B[39mdecode(\u001B[38;5;124m\"\u001B[39m\u001B[38;5;124mascii\u001B[39m\u001B[38;5;124m\"\u001B[39m)\n\u001B[1;32m   1046\u001B[0m \u001B[38;5;28;01mexcept\u001B[39;00m \u001B[38;5;167;01mTypeError\u001B[39;00m \u001B[38;5;28;01mas\u001B[39;00m e:\n",
      "\u001B[0;31mTypeError\u001B[0m: a bytes-like object is required, not 'str'",
      "\nThe above exception was the direct cause of the following exception:\n",
      "\u001B[0;31mFileNotFoundError\u001B[0m                         Traceback (most recent call last)",
      "File \u001B[0;32m~/PycharmProjects/pythonProject/venv/lib/python3.10/site-packages/IPython/core/formatters.py:972\u001B[0m, in \u001B[0;36mMimeBundleFormatter.__call__\u001B[0;34m(self, obj, include, exclude)\u001B[0m\n\u001B[1;32m    969\u001B[0m     method \u001B[38;5;241m=\u001B[39m get_real_method(obj, \u001B[38;5;28mself\u001B[39m\u001B[38;5;241m.\u001B[39mprint_method)\n\u001B[1;32m    971\u001B[0m     \u001B[38;5;28;01mif\u001B[39;00m method \u001B[38;5;129;01mis\u001B[39;00m \u001B[38;5;129;01mnot\u001B[39;00m \u001B[38;5;28;01mNone\u001B[39;00m:\n\u001B[0;32m--> 972\u001B[0m         \u001B[38;5;28;01mreturn\u001B[39;00m \u001B[43mmethod\u001B[49m\u001B[43m(\u001B[49m\u001B[43minclude\u001B[49m\u001B[38;5;241;43m=\u001B[39;49m\u001B[43minclude\u001B[49m\u001B[43m,\u001B[49m\u001B[43m \u001B[49m\u001B[43mexclude\u001B[49m\u001B[38;5;241;43m=\u001B[39;49m\u001B[43mexclude\u001B[49m\u001B[43m)\u001B[49m\n\u001B[1;32m    973\u001B[0m     \u001B[38;5;28;01mreturn\u001B[39;00m \u001B[38;5;28;01mNone\u001B[39;00m\n\u001B[1;32m    974\u001B[0m \u001B[38;5;28;01melse\u001B[39;00m:\n",
      "File \u001B[0;32m~/PycharmProjects/pythonProject/venv/lib/python3.10/site-packages/IPython/core/display.py:1035\u001B[0m, in \u001B[0;36mImage._repr_mimebundle_\u001B[0;34m(self, include, exclude)\u001B[0m\n\u001B[1;32m   1033\u001B[0m \u001B[38;5;28;01mif\u001B[39;00m \u001B[38;5;28mself\u001B[39m\u001B[38;5;241m.\u001B[39membed:\n\u001B[1;32m   1034\u001B[0m     mimetype \u001B[38;5;241m=\u001B[39m \u001B[38;5;28mself\u001B[39m\u001B[38;5;241m.\u001B[39m_mimetype\n\u001B[0;32m-> 1035\u001B[0m     data, metadata \u001B[38;5;241m=\u001B[39m \u001B[38;5;28;43mself\u001B[39;49m\u001B[38;5;241;43m.\u001B[39;49m\u001B[43m_data_and_metadata\u001B[49m\u001B[43m(\u001B[49m\u001B[43malways_both\u001B[49m\u001B[38;5;241;43m=\u001B[39;49m\u001B[38;5;28;43;01mTrue\u001B[39;49;00m\u001B[43m)\u001B[49m\n\u001B[1;32m   1036\u001B[0m     \u001B[38;5;28;01mif\u001B[39;00m metadata:\n\u001B[1;32m   1037\u001B[0m         metadata \u001B[38;5;241m=\u001B[39m {mimetype: metadata}\n",
      "File \u001B[0;32m~/PycharmProjects/pythonProject/venv/lib/python3.10/site-packages/IPython/core/display.py:1047\u001B[0m, in \u001B[0;36mImage._data_and_metadata\u001B[0;34m(self, always_both)\u001B[0m\n\u001B[1;32m   1045\u001B[0m     b64_data \u001B[38;5;241m=\u001B[39m b2a_base64(\u001B[38;5;28mself\u001B[39m\u001B[38;5;241m.\u001B[39mdata, newline\u001B[38;5;241m=\u001B[39m\u001B[38;5;28;01mFalse\u001B[39;00m)\u001B[38;5;241m.\u001B[39mdecode(\u001B[38;5;124m\"\u001B[39m\u001B[38;5;124mascii\u001B[39m\u001B[38;5;124m\"\u001B[39m)\n\u001B[1;32m   1046\u001B[0m \u001B[38;5;28;01mexcept\u001B[39;00m \u001B[38;5;167;01mTypeError\u001B[39;00m \u001B[38;5;28;01mas\u001B[39;00m e:\n\u001B[0;32m-> 1047\u001B[0m     \u001B[38;5;28;01mraise\u001B[39;00m \u001B[38;5;167;01mFileNotFoundError\u001B[39;00m(\n\u001B[1;32m   1048\u001B[0m         \u001B[38;5;124m\"\u001B[39m\u001B[38;5;124mNo such file or directory: \u001B[39m\u001B[38;5;124m'\u001B[39m\u001B[38;5;132;01m%s\u001B[39;00m\u001B[38;5;124m'\u001B[39m\u001B[38;5;124m\"\u001B[39m \u001B[38;5;241m%\u001B[39m (\u001B[38;5;28mself\u001B[39m\u001B[38;5;241m.\u001B[39mdata)) \u001B[38;5;28;01mfrom\u001B[39;00m \u001B[38;5;21;01me\u001B[39;00m\n\u001B[1;32m   1049\u001B[0m md \u001B[38;5;241m=\u001B[39m {}\n\u001B[1;32m   1050\u001B[0m \u001B[38;5;28;01mif\u001B[39;00m \u001B[38;5;28mself\u001B[39m\u001B[38;5;241m.\u001B[39mmetadata:\n",
      "\u001B[0;31mFileNotFoundError\u001B[0m: No such file or directory: 'AnotherKruskalMST.png'"
     ]
    },
    {
     "ename": "FileNotFoundError",
     "evalue": "No such file or directory: 'AnotherKruskalMST.png'",
     "output_type": "error",
     "traceback": [
      "\u001B[0;31m---------------------------------------------------------------------------\u001B[0m",
      "\u001B[0;31mTypeError\u001B[0m                                 Traceback (most recent call last)",
      "File \u001B[0;32m~/PycharmProjects/pythonProject/venv/lib/python3.10/site-packages/IPython/core/display.py:1045\u001B[0m, in \u001B[0;36mImage._data_and_metadata\u001B[0;34m(self, always_both)\u001B[0m\n\u001B[1;32m   1044\u001B[0m \u001B[38;5;28;01mtry\u001B[39;00m:\n\u001B[0;32m-> 1045\u001B[0m     b64_data \u001B[38;5;241m=\u001B[39m \u001B[43mb2a_base64\u001B[49m\u001B[43m(\u001B[49m\u001B[38;5;28;43mself\u001B[39;49m\u001B[38;5;241;43m.\u001B[39;49m\u001B[43mdata\u001B[49m\u001B[43m,\u001B[49m\u001B[43m \u001B[49m\u001B[43mnewline\u001B[49m\u001B[38;5;241;43m=\u001B[39;49m\u001B[38;5;28;43;01mFalse\u001B[39;49;00m\u001B[43m)\u001B[49m\u001B[38;5;241m.\u001B[39mdecode(\u001B[38;5;124m\"\u001B[39m\u001B[38;5;124mascii\u001B[39m\u001B[38;5;124m\"\u001B[39m)\n\u001B[1;32m   1046\u001B[0m \u001B[38;5;28;01mexcept\u001B[39;00m \u001B[38;5;167;01mTypeError\u001B[39;00m \u001B[38;5;28;01mas\u001B[39;00m e:\n",
      "\u001B[0;31mTypeError\u001B[0m: a bytes-like object is required, not 'str'",
      "\nThe above exception was the direct cause of the following exception:\n",
      "\u001B[0;31mFileNotFoundError\u001B[0m                         Traceback (most recent call last)",
      "File \u001B[0;32m~/PycharmProjects/pythonProject/venv/lib/python3.10/site-packages/IPython/core/formatters.py:342\u001B[0m, in \u001B[0;36mBaseFormatter.__call__\u001B[0;34m(self, obj)\u001B[0m\n\u001B[1;32m    340\u001B[0m     method \u001B[38;5;241m=\u001B[39m get_real_method(obj, \u001B[38;5;28mself\u001B[39m\u001B[38;5;241m.\u001B[39mprint_method)\n\u001B[1;32m    341\u001B[0m     \u001B[38;5;28;01mif\u001B[39;00m method \u001B[38;5;129;01mis\u001B[39;00m \u001B[38;5;129;01mnot\u001B[39;00m \u001B[38;5;28;01mNone\u001B[39;00m:\n\u001B[0;32m--> 342\u001B[0m         \u001B[38;5;28;01mreturn\u001B[39;00m \u001B[43mmethod\u001B[49m\u001B[43m(\u001B[49m\u001B[43m)\u001B[49m\n\u001B[1;32m    343\u001B[0m     \u001B[38;5;28;01mreturn\u001B[39;00m \u001B[38;5;28;01mNone\u001B[39;00m\n\u001B[1;32m    344\u001B[0m \u001B[38;5;28;01melse\u001B[39;00m:\n",
      "File \u001B[0;32m~/PycharmProjects/pythonProject/venv/lib/python3.10/site-packages/IPython/core/display.py:1067\u001B[0m, in \u001B[0;36mImage._repr_png_\u001B[0;34m(self)\u001B[0m\n\u001B[1;32m   1065\u001B[0m \u001B[38;5;28;01mdef\u001B[39;00m \u001B[38;5;21m_repr_png_\u001B[39m(\u001B[38;5;28mself\u001B[39m):\n\u001B[1;32m   1066\u001B[0m     \u001B[38;5;28;01mif\u001B[39;00m \u001B[38;5;28mself\u001B[39m\u001B[38;5;241m.\u001B[39membed \u001B[38;5;129;01mand\u001B[39;00m \u001B[38;5;28mself\u001B[39m\u001B[38;5;241m.\u001B[39mformat \u001B[38;5;241m==\u001B[39m \u001B[38;5;28mself\u001B[39m\u001B[38;5;241m.\u001B[39m_FMT_PNG:\n\u001B[0;32m-> 1067\u001B[0m         \u001B[38;5;28;01mreturn\u001B[39;00m \u001B[38;5;28;43mself\u001B[39;49m\u001B[38;5;241;43m.\u001B[39;49m\u001B[43m_data_and_metadata\u001B[49m\u001B[43m(\u001B[49m\u001B[43m)\u001B[49m\n",
      "File \u001B[0;32m~/PycharmProjects/pythonProject/venv/lib/python3.10/site-packages/IPython/core/display.py:1047\u001B[0m, in \u001B[0;36mImage._data_and_metadata\u001B[0;34m(self, always_both)\u001B[0m\n\u001B[1;32m   1045\u001B[0m     b64_data \u001B[38;5;241m=\u001B[39m b2a_base64(\u001B[38;5;28mself\u001B[39m\u001B[38;5;241m.\u001B[39mdata, newline\u001B[38;5;241m=\u001B[39m\u001B[38;5;28;01mFalse\u001B[39;00m)\u001B[38;5;241m.\u001B[39mdecode(\u001B[38;5;124m\"\u001B[39m\u001B[38;5;124mascii\u001B[39m\u001B[38;5;124m\"\u001B[39m)\n\u001B[1;32m   1046\u001B[0m \u001B[38;5;28;01mexcept\u001B[39;00m \u001B[38;5;167;01mTypeError\u001B[39;00m \u001B[38;5;28;01mas\u001B[39;00m e:\n\u001B[0;32m-> 1047\u001B[0m     \u001B[38;5;28;01mraise\u001B[39;00m \u001B[38;5;167;01mFileNotFoundError\u001B[39;00m(\n\u001B[1;32m   1048\u001B[0m         \u001B[38;5;124m\"\u001B[39m\u001B[38;5;124mNo such file or directory: \u001B[39m\u001B[38;5;124m'\u001B[39m\u001B[38;5;132;01m%s\u001B[39;00m\u001B[38;5;124m'\u001B[39m\u001B[38;5;124m\"\u001B[39m \u001B[38;5;241m%\u001B[39m (\u001B[38;5;28mself\u001B[39m\u001B[38;5;241m.\u001B[39mdata)) \u001B[38;5;28;01mfrom\u001B[39;00m \u001B[38;5;21;01me\u001B[39;00m\n\u001B[1;32m   1049\u001B[0m md \u001B[38;5;241m=\u001B[39m {}\n\u001B[1;32m   1050\u001B[0m \u001B[38;5;28;01mif\u001B[39;00m \u001B[38;5;28mself\u001B[39m\u001B[38;5;241m.\u001B[39mmetadata:\n",
      "\u001B[0;31mFileNotFoundError\u001B[0m: No such file or directory: 'AnotherKruskalMST.png'"
     ]
    },
    {
     "data": {
      "text/plain": "<IPython.core.display.Image object>"
     },
     "execution_count": 19,
     "metadata": {},
     "output_type": "execute_result"
    }
   ],
   "source": [
    "from IPython.display import Image\n",
    "Image('AnotherKruskalMST.png')"
   ]
  },
  {
   "cell_type": "code",
   "execution_count": 20,
   "metadata": {
    "pycharm": {
     "name": "#%%\n"
    }
   },
   "outputs": [
    {
     "name": "stdout",
     "output_type": "stream",
     "text": [
      "zsh:1: command not found: circo\r\n"
     ]
    }
   ],
   "source": [
    "# The following command assumes that graphviz is installed.\n",
    "# See https://www.graphviz.org/\n",
    "!circo -Goverlap=scale -Tpng AnotherPrimMST.dot -o AnotherPrimMST.png"
   ]
  },
  {
   "cell_type": "code",
   "execution_count": 21,
   "metadata": {
    "pycharm": {
     "name": "#%%\n"
    }
   },
   "outputs": [
    {
     "ename": "FileNotFoundError",
     "evalue": "No such file or directory: 'AnotherPrimMST.png'",
     "output_type": "error",
     "traceback": [
      "\u001B[0;31m---------------------------------------------------------------------------\u001B[0m",
      "\u001B[0;31mTypeError\u001B[0m                                 Traceback (most recent call last)",
      "File \u001B[0;32m~/PycharmProjects/pythonProject/venv/lib/python3.10/site-packages/IPython/core/display.py:1045\u001B[0m, in \u001B[0;36mImage._data_and_metadata\u001B[0;34m(self, always_both)\u001B[0m\n\u001B[1;32m   1044\u001B[0m \u001B[38;5;28;01mtry\u001B[39;00m:\n\u001B[0;32m-> 1045\u001B[0m     b64_data \u001B[38;5;241m=\u001B[39m \u001B[43mb2a_base64\u001B[49m\u001B[43m(\u001B[49m\u001B[38;5;28;43mself\u001B[39;49m\u001B[38;5;241;43m.\u001B[39;49m\u001B[43mdata\u001B[49m\u001B[43m,\u001B[49m\u001B[43m \u001B[49m\u001B[43mnewline\u001B[49m\u001B[38;5;241;43m=\u001B[39;49m\u001B[38;5;28;43;01mFalse\u001B[39;49;00m\u001B[43m)\u001B[49m\u001B[38;5;241m.\u001B[39mdecode(\u001B[38;5;124m\"\u001B[39m\u001B[38;5;124mascii\u001B[39m\u001B[38;5;124m\"\u001B[39m)\n\u001B[1;32m   1046\u001B[0m \u001B[38;5;28;01mexcept\u001B[39;00m \u001B[38;5;167;01mTypeError\u001B[39;00m \u001B[38;5;28;01mas\u001B[39;00m e:\n",
      "\u001B[0;31mTypeError\u001B[0m: a bytes-like object is required, not 'str'",
      "\nThe above exception was the direct cause of the following exception:\n",
      "\u001B[0;31mFileNotFoundError\u001B[0m                         Traceback (most recent call last)",
      "File \u001B[0;32m~/PycharmProjects/pythonProject/venv/lib/python3.10/site-packages/IPython/core/formatters.py:972\u001B[0m, in \u001B[0;36mMimeBundleFormatter.__call__\u001B[0;34m(self, obj, include, exclude)\u001B[0m\n\u001B[1;32m    969\u001B[0m     method \u001B[38;5;241m=\u001B[39m get_real_method(obj, \u001B[38;5;28mself\u001B[39m\u001B[38;5;241m.\u001B[39mprint_method)\n\u001B[1;32m    971\u001B[0m     \u001B[38;5;28;01mif\u001B[39;00m method \u001B[38;5;129;01mis\u001B[39;00m \u001B[38;5;129;01mnot\u001B[39;00m \u001B[38;5;28;01mNone\u001B[39;00m:\n\u001B[0;32m--> 972\u001B[0m         \u001B[38;5;28;01mreturn\u001B[39;00m \u001B[43mmethod\u001B[49m\u001B[43m(\u001B[49m\u001B[43minclude\u001B[49m\u001B[38;5;241;43m=\u001B[39;49m\u001B[43minclude\u001B[49m\u001B[43m,\u001B[49m\u001B[43m \u001B[49m\u001B[43mexclude\u001B[49m\u001B[38;5;241;43m=\u001B[39;49m\u001B[43mexclude\u001B[49m\u001B[43m)\u001B[49m\n\u001B[1;32m    973\u001B[0m     \u001B[38;5;28;01mreturn\u001B[39;00m \u001B[38;5;28;01mNone\u001B[39;00m\n\u001B[1;32m    974\u001B[0m \u001B[38;5;28;01melse\u001B[39;00m:\n",
      "File \u001B[0;32m~/PycharmProjects/pythonProject/venv/lib/python3.10/site-packages/IPython/core/display.py:1035\u001B[0m, in \u001B[0;36mImage._repr_mimebundle_\u001B[0;34m(self, include, exclude)\u001B[0m\n\u001B[1;32m   1033\u001B[0m \u001B[38;5;28;01mif\u001B[39;00m \u001B[38;5;28mself\u001B[39m\u001B[38;5;241m.\u001B[39membed:\n\u001B[1;32m   1034\u001B[0m     mimetype \u001B[38;5;241m=\u001B[39m \u001B[38;5;28mself\u001B[39m\u001B[38;5;241m.\u001B[39m_mimetype\n\u001B[0;32m-> 1035\u001B[0m     data, metadata \u001B[38;5;241m=\u001B[39m \u001B[38;5;28;43mself\u001B[39;49m\u001B[38;5;241;43m.\u001B[39;49m\u001B[43m_data_and_metadata\u001B[49m\u001B[43m(\u001B[49m\u001B[43malways_both\u001B[49m\u001B[38;5;241;43m=\u001B[39;49m\u001B[38;5;28;43;01mTrue\u001B[39;49;00m\u001B[43m)\u001B[49m\n\u001B[1;32m   1036\u001B[0m     \u001B[38;5;28;01mif\u001B[39;00m metadata:\n\u001B[1;32m   1037\u001B[0m         metadata \u001B[38;5;241m=\u001B[39m {mimetype: metadata}\n",
      "File \u001B[0;32m~/PycharmProjects/pythonProject/venv/lib/python3.10/site-packages/IPython/core/display.py:1047\u001B[0m, in \u001B[0;36mImage._data_and_metadata\u001B[0;34m(self, always_both)\u001B[0m\n\u001B[1;32m   1045\u001B[0m     b64_data \u001B[38;5;241m=\u001B[39m b2a_base64(\u001B[38;5;28mself\u001B[39m\u001B[38;5;241m.\u001B[39mdata, newline\u001B[38;5;241m=\u001B[39m\u001B[38;5;28;01mFalse\u001B[39;00m)\u001B[38;5;241m.\u001B[39mdecode(\u001B[38;5;124m\"\u001B[39m\u001B[38;5;124mascii\u001B[39m\u001B[38;5;124m\"\u001B[39m)\n\u001B[1;32m   1046\u001B[0m \u001B[38;5;28;01mexcept\u001B[39;00m \u001B[38;5;167;01mTypeError\u001B[39;00m \u001B[38;5;28;01mas\u001B[39;00m e:\n\u001B[0;32m-> 1047\u001B[0m     \u001B[38;5;28;01mraise\u001B[39;00m \u001B[38;5;167;01mFileNotFoundError\u001B[39;00m(\n\u001B[1;32m   1048\u001B[0m         \u001B[38;5;124m\"\u001B[39m\u001B[38;5;124mNo such file or directory: \u001B[39m\u001B[38;5;124m'\u001B[39m\u001B[38;5;132;01m%s\u001B[39;00m\u001B[38;5;124m'\u001B[39m\u001B[38;5;124m\"\u001B[39m \u001B[38;5;241m%\u001B[39m (\u001B[38;5;28mself\u001B[39m\u001B[38;5;241m.\u001B[39mdata)) \u001B[38;5;28;01mfrom\u001B[39;00m \u001B[38;5;21;01me\u001B[39;00m\n\u001B[1;32m   1049\u001B[0m md \u001B[38;5;241m=\u001B[39m {}\n\u001B[1;32m   1050\u001B[0m \u001B[38;5;28;01mif\u001B[39;00m \u001B[38;5;28mself\u001B[39m\u001B[38;5;241m.\u001B[39mmetadata:\n",
      "\u001B[0;31mFileNotFoundError\u001B[0m: No such file or directory: 'AnotherPrimMST.png'"
     ]
    },
    {
     "ename": "FileNotFoundError",
     "evalue": "No such file or directory: 'AnotherPrimMST.png'",
     "output_type": "error",
     "traceback": [
      "\u001B[0;31m---------------------------------------------------------------------------\u001B[0m",
      "\u001B[0;31mTypeError\u001B[0m                                 Traceback (most recent call last)",
      "File \u001B[0;32m~/PycharmProjects/pythonProject/venv/lib/python3.10/site-packages/IPython/core/display.py:1045\u001B[0m, in \u001B[0;36mImage._data_and_metadata\u001B[0;34m(self, always_both)\u001B[0m\n\u001B[1;32m   1044\u001B[0m \u001B[38;5;28;01mtry\u001B[39;00m:\n\u001B[0;32m-> 1045\u001B[0m     b64_data \u001B[38;5;241m=\u001B[39m \u001B[43mb2a_base64\u001B[49m\u001B[43m(\u001B[49m\u001B[38;5;28;43mself\u001B[39;49m\u001B[38;5;241;43m.\u001B[39;49m\u001B[43mdata\u001B[49m\u001B[43m,\u001B[49m\u001B[43m \u001B[49m\u001B[43mnewline\u001B[49m\u001B[38;5;241;43m=\u001B[39;49m\u001B[38;5;28;43;01mFalse\u001B[39;49;00m\u001B[43m)\u001B[49m\u001B[38;5;241m.\u001B[39mdecode(\u001B[38;5;124m\"\u001B[39m\u001B[38;5;124mascii\u001B[39m\u001B[38;5;124m\"\u001B[39m)\n\u001B[1;32m   1046\u001B[0m \u001B[38;5;28;01mexcept\u001B[39;00m \u001B[38;5;167;01mTypeError\u001B[39;00m \u001B[38;5;28;01mas\u001B[39;00m e:\n",
      "\u001B[0;31mTypeError\u001B[0m: a bytes-like object is required, not 'str'",
      "\nThe above exception was the direct cause of the following exception:\n",
      "\u001B[0;31mFileNotFoundError\u001B[0m                         Traceback (most recent call last)",
      "File \u001B[0;32m~/PycharmProjects/pythonProject/venv/lib/python3.10/site-packages/IPython/core/formatters.py:342\u001B[0m, in \u001B[0;36mBaseFormatter.__call__\u001B[0;34m(self, obj)\u001B[0m\n\u001B[1;32m    340\u001B[0m     method \u001B[38;5;241m=\u001B[39m get_real_method(obj, \u001B[38;5;28mself\u001B[39m\u001B[38;5;241m.\u001B[39mprint_method)\n\u001B[1;32m    341\u001B[0m     \u001B[38;5;28;01mif\u001B[39;00m method \u001B[38;5;129;01mis\u001B[39;00m \u001B[38;5;129;01mnot\u001B[39;00m \u001B[38;5;28;01mNone\u001B[39;00m:\n\u001B[0;32m--> 342\u001B[0m         \u001B[38;5;28;01mreturn\u001B[39;00m \u001B[43mmethod\u001B[49m\u001B[43m(\u001B[49m\u001B[43m)\u001B[49m\n\u001B[1;32m    343\u001B[0m     \u001B[38;5;28;01mreturn\u001B[39;00m \u001B[38;5;28;01mNone\u001B[39;00m\n\u001B[1;32m    344\u001B[0m \u001B[38;5;28;01melse\u001B[39;00m:\n",
      "File \u001B[0;32m~/PycharmProjects/pythonProject/venv/lib/python3.10/site-packages/IPython/core/display.py:1067\u001B[0m, in \u001B[0;36mImage._repr_png_\u001B[0;34m(self)\u001B[0m\n\u001B[1;32m   1065\u001B[0m \u001B[38;5;28;01mdef\u001B[39;00m \u001B[38;5;21m_repr_png_\u001B[39m(\u001B[38;5;28mself\u001B[39m):\n\u001B[1;32m   1066\u001B[0m     \u001B[38;5;28;01mif\u001B[39;00m \u001B[38;5;28mself\u001B[39m\u001B[38;5;241m.\u001B[39membed \u001B[38;5;129;01mand\u001B[39;00m \u001B[38;5;28mself\u001B[39m\u001B[38;5;241m.\u001B[39mformat \u001B[38;5;241m==\u001B[39m \u001B[38;5;28mself\u001B[39m\u001B[38;5;241m.\u001B[39m_FMT_PNG:\n\u001B[0;32m-> 1067\u001B[0m         \u001B[38;5;28;01mreturn\u001B[39;00m \u001B[38;5;28;43mself\u001B[39;49m\u001B[38;5;241;43m.\u001B[39;49m\u001B[43m_data_and_metadata\u001B[49m\u001B[43m(\u001B[49m\u001B[43m)\u001B[49m\n",
      "File \u001B[0;32m~/PycharmProjects/pythonProject/venv/lib/python3.10/site-packages/IPython/core/display.py:1047\u001B[0m, in \u001B[0;36mImage._data_and_metadata\u001B[0;34m(self, always_both)\u001B[0m\n\u001B[1;32m   1045\u001B[0m     b64_data \u001B[38;5;241m=\u001B[39m b2a_base64(\u001B[38;5;28mself\u001B[39m\u001B[38;5;241m.\u001B[39mdata, newline\u001B[38;5;241m=\u001B[39m\u001B[38;5;28;01mFalse\u001B[39;00m)\u001B[38;5;241m.\u001B[39mdecode(\u001B[38;5;124m\"\u001B[39m\u001B[38;5;124mascii\u001B[39m\u001B[38;5;124m\"\u001B[39m)\n\u001B[1;32m   1046\u001B[0m \u001B[38;5;28;01mexcept\u001B[39;00m \u001B[38;5;167;01mTypeError\u001B[39;00m \u001B[38;5;28;01mas\u001B[39;00m e:\n\u001B[0;32m-> 1047\u001B[0m     \u001B[38;5;28;01mraise\u001B[39;00m \u001B[38;5;167;01mFileNotFoundError\u001B[39;00m(\n\u001B[1;32m   1048\u001B[0m         \u001B[38;5;124m\"\u001B[39m\u001B[38;5;124mNo such file or directory: \u001B[39m\u001B[38;5;124m'\u001B[39m\u001B[38;5;132;01m%s\u001B[39;00m\u001B[38;5;124m'\u001B[39m\u001B[38;5;124m\"\u001B[39m \u001B[38;5;241m%\u001B[39m (\u001B[38;5;28mself\u001B[39m\u001B[38;5;241m.\u001B[39mdata)) \u001B[38;5;28;01mfrom\u001B[39;00m \u001B[38;5;21;01me\u001B[39;00m\n\u001B[1;32m   1049\u001B[0m md \u001B[38;5;241m=\u001B[39m {}\n\u001B[1;32m   1050\u001B[0m \u001B[38;5;28;01mif\u001B[39;00m \u001B[38;5;28mself\u001B[39m\u001B[38;5;241m.\u001B[39mmetadata:\n",
      "\u001B[0;31mFileNotFoundError\u001B[0m: No such file or directory: 'AnotherPrimMST.png'"
     ]
    },
    {
     "data": {
      "text/plain": "<IPython.core.display.Image object>"
     },
     "execution_count": 21,
     "metadata": {},
     "output_type": "execute_result"
    }
   ],
   "source": [
    "from IPython.display import Image\n",
    "Image('AnotherPrimMST.png')"
   ]
  },
  {
   "cell_type": "code",
   "execution_count": 22,
   "metadata": {
    "pycharm": {
     "name": "#%%\n"
    }
   },
   "outputs": [
    {
     "name": "stdout",
     "output_type": "stream",
     "text": [
      "Vertex \t Distance from Source\n",
      "0 \t\t 0\n",
      "1 \t\t 4\n",
      "2 \t\t 12\n",
      "3 \t\t 19\n",
      "4 \t\t 21\n",
      "5 \t\t 11\n",
      "6 \t\t 9\n",
      "7 \t\t 8\n",
      "8 \t\t 14\n"
     ]
    }
   ],
   "source": [
    "matrix2 = [[0, 4, 0, 0, 0, 0, 0, 8, 0],\n",
    "           [4, 0, 8, 0, 0, 0, 0, 11, 0], \n",
    "           [0, 8, 0, 7, 0, 4, 0, 0, 2],\n",
    "           [0, 0, 7, 0, 9, 14, 0, 0, 0],\n",
    "           [0, 0, 0, 9, 0, 10, 0, 0, 0],\n",
    "           [0, 0, 4, 14, 10, 0, 2, 0, 0], \n",
    "           [0, 0, 0, 0, 0, 2, 0, 1, 6],\n",
    "           [8, 11, 0, 0, 0, 0, 1, 0, 7], \n",
    "           [0, 0, 2, 0, 0, 0, 6, 7, 0]]\n",
    "exampleGraphD = Graph(len(matrix2))\n",
    "exampleGraphD.graph = matrix2\n",
    "exampleGraphD.dijkstra(0)"
   ]
  },
  {
   "cell_type": "code",
   "execution_count": 23,
   "metadata": {
    "pycharm": {
     "name": "#%%\n"
    }
   },
   "outputs": [
    {
     "name": "stdout",
     "output_type": "stream",
     "text": [
      "Distances from vertex 0\n",
      "Vertex \t Distance from Source\n",
      "0 \t\t 0\n",
      "1 \t\t 4\n",
      "2 \t\t 12\n",
      "3 \t\t 19\n",
      "4 \t\t 21\n",
      "5 \t\t 11\n",
      "6 \t\t 9\n",
      "7 \t\t 8\n",
      "8 \t\t 14\n",
      "Distances from vertex 1\n",
      "Vertex \t Distance from Source\n",
      "0 \t\t 4\n",
      "1 \t\t 0\n",
      "2 \t\t 8\n",
      "3 \t\t 15\n",
      "4 \t\t 22\n",
      "5 \t\t 12\n",
      "6 \t\t 12\n",
      "7 \t\t 11\n",
      "8 \t\t 10\n",
      "Distances from vertex 2\n",
      "Vertex \t Distance from Source\n",
      "0 \t\t 12\n",
      "1 \t\t 8\n",
      "2 \t\t 0\n",
      "3 \t\t 7\n",
      "4 \t\t 14\n",
      "5 \t\t 4\n",
      "6 \t\t 6\n",
      "7 \t\t 7\n",
      "8 \t\t 2\n",
      "Distances from vertex 3\n",
      "Vertex \t Distance from Source\n",
      "0 \t\t 19\n",
      "1 \t\t 15\n",
      "2 \t\t 7\n",
      "3 \t\t 0\n",
      "4 \t\t 9\n",
      "5 \t\t 11\n",
      "6 \t\t 13\n",
      "7 \t\t 14\n",
      "8 \t\t 9\n",
      "Distances from vertex 4\n",
      "Vertex \t Distance from Source\n",
      "0 \t\t 21\n",
      "1 \t\t 22\n",
      "2 \t\t 14\n",
      "3 \t\t 9\n",
      "4 \t\t 0\n",
      "5 \t\t 10\n",
      "6 \t\t 12\n",
      "7 \t\t 13\n",
      "8 \t\t 16\n",
      "Distances from vertex 5\n",
      "Vertex \t Distance from Source\n",
      "0 \t\t 11\n",
      "1 \t\t 12\n",
      "2 \t\t 4\n",
      "3 \t\t 11\n",
      "4 \t\t 10\n",
      "5 \t\t 0\n",
      "6 \t\t 2\n",
      "7 \t\t 3\n",
      "8 \t\t 6\n",
      "Distances from vertex 6\n",
      "Vertex \t Distance from Source\n",
      "0 \t\t 9\n",
      "1 \t\t 12\n",
      "2 \t\t 6\n",
      "3 \t\t 13\n",
      "4 \t\t 12\n",
      "5 \t\t 2\n",
      "6 \t\t 0\n",
      "7 \t\t 1\n",
      "8 \t\t 6\n",
      "Distances from vertex 7\n",
      "Vertex \t Distance from Source\n",
      "0 \t\t 8\n",
      "1 \t\t 11\n",
      "2 \t\t 7\n",
      "3 \t\t 14\n",
      "4 \t\t 13\n",
      "5 \t\t 3\n",
      "6 \t\t 1\n",
      "7 \t\t 0\n",
      "8 \t\t 7\n",
      "Distances from vertex 8\n",
      "Vertex \t Distance from Source\n",
      "0 \t\t 14\n",
      "1 \t\t 10\n",
      "2 \t\t 2\n",
      "3 \t\t 9\n",
      "4 \t\t 16\n",
      "5 \t\t 6\n",
      "6 \t\t 6\n",
      "7 \t\t 7\n",
      "8 \t\t 0\n"
     ]
    }
   ],
   "source": [
    "for v in range(len(exampleGraphD.graph)):\n",
    "    print(f\"Distances from vertex {v}\")\n",
    "    exampleGraphD.dijkstra(v)"
   ]
  },
  {
   "cell_type": "code",
   "execution_count": 23,
   "metadata": {
    "pycharm": {
     "name": "#%%\n"
    }
   },
   "outputs": [],
   "source": []
  }
 ],
 "metadata": {
  "kernelspec": {
   "display_name": "Python 3",
   "language": "python",
   "name": "python3"
  },
  "language_info": {
   "codemirror_mode": {
    "name": "ipython",
    "version": 3
   },
   "file_extension": ".py",
   "mimetype": "text/x-python",
   "name": "python",
   "nbconvert_exporter": "python",
   "pygments_lexer": "ipython3",
   "version": "3.8.3"
  }
 },
 "nbformat": 4,
 "nbformat_minor": 2
}